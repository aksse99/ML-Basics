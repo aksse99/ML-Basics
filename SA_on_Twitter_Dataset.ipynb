{
  "nbformat": 4,
  "nbformat_minor": 0,
  "metadata": {
    "colab": {
      "name": "SA_on_Twitter_Dataset.ipynb",
      "provenance": [],
      "collapsed_sections": [],
      "authorship_tag": "ABX9TyPwA1J1EcN3+F/p6JUm+6dS",
      "include_colab_link": true
    },
    "kernelspec": {
      "name": "python3",
      "display_name": "Python 3"
    },
    "language_info": {
      "name": "python"
    }
  },
  "cells": [
    {
      "cell_type": "markdown",
      "metadata": {
        "id": "view-in-github",
        "colab_type": "text"
      },
      "source": [
        "<a href=\"https://colab.research.google.com/github/aksse99/ML-Basics/blob/master/SA_on_Twitter_Dataset.ipynb\" target=\"_parent\"><img src=\"https://colab.research.google.com/assets/colab-badge.svg\" alt=\"Open In Colab\"/></a>"
      ]
    },
    {
      "cell_type": "code",
      "source": [
        "import numpy as np\n",
        "import pandas as pd\n",
        "import os\n",
        "for dirname, _, filenames in os.walk('/kaggle/input'):\n",
        "    for filename in filenames:\n",
        "        print(os.path.join(dirname, filename))\n"
      ],
      "metadata": {
        "id": "T4YhdyeLaIko"
      },
      "execution_count": 1,
      "outputs": []
    },
    {
      "cell_type": "code",
      "source": [
        "import seaborn as sns\n",
        "import matplotlib.pyplot as plt\n",
        "from nltk.corpus import stopwords\n",
        "import nltk\n",
        "nltk.download('all')\n",
        "from nltk import bigrams\n",
        "from nltk.tokenize import sent_tokenize, word_tokenize\n",
        "import string\n",
        "from collections import Counter\n",
        "from sklearn.model_selection import train_test_split\n",
        "from sklearn.feature_extraction.text import CountVectorizer, TfidfVectorizer, HashingVectorizer\n",
        "import re\n",
        "import pickle"
      ],
      "metadata": {
        "id": "tNju6W6haIic"
      },
      "execution_count": null,
      "outputs": []
    },
    {
      "cell_type": "code",
      "source": [
        "train_df = pd.read_csv('train.csv')\n",
        "train_df.head(10)"
      ],
      "metadata": {
        "colab": {
          "base_uri": "https://localhost:8080/",
          "height": 363
        },
        "id": "Ot7bDPTOaIfr",
        "outputId": "9f38ff50-013b-4d5a-af9f-aa54f29b6081"
      },
      "execution_count": 4,
      "outputs": [
        {
          "output_type": "execute_result",
          "data": {
            "text/html": [
              "\n",
              "  <div id=\"df-0a22ef69-f46f-4343-be37-3d22ee95eb54\">\n",
              "    <div class=\"colab-df-container\">\n",
              "      <div>\n",
              "<style scoped>\n",
              "    .dataframe tbody tr th:only-of-type {\n",
              "        vertical-align: middle;\n",
              "    }\n",
              "\n",
              "    .dataframe tbody tr th {\n",
              "        vertical-align: top;\n",
              "    }\n",
              "\n",
              "    .dataframe thead th {\n",
              "        text-align: right;\n",
              "    }\n",
              "</style>\n",
              "<table border=\"1\" class=\"dataframe\">\n",
              "  <thead>\n",
              "    <tr style=\"text-align: right;\">\n",
              "      <th></th>\n",
              "      <th>id</th>\n",
              "      <th>keyword</th>\n",
              "      <th>location</th>\n",
              "      <th>text</th>\n",
              "      <th>target</th>\n",
              "    </tr>\n",
              "  </thead>\n",
              "  <tbody>\n",
              "    <tr>\n",
              "      <th>0</th>\n",
              "      <td>1</td>\n",
              "      <td>NaN</td>\n",
              "      <td>NaN</td>\n",
              "      <td>Our Deeds are the Reason of this #earthquake M...</td>\n",
              "      <td>1</td>\n",
              "    </tr>\n",
              "    <tr>\n",
              "      <th>1</th>\n",
              "      <td>4</td>\n",
              "      <td>NaN</td>\n",
              "      <td>NaN</td>\n",
              "      <td>Forest fire near La Ronge Sask. Canada</td>\n",
              "      <td>1</td>\n",
              "    </tr>\n",
              "    <tr>\n",
              "      <th>2</th>\n",
              "      <td>5</td>\n",
              "      <td>NaN</td>\n",
              "      <td>NaN</td>\n",
              "      <td>All residents asked to 'shelter in place' are ...</td>\n",
              "      <td>1</td>\n",
              "    </tr>\n",
              "    <tr>\n",
              "      <th>3</th>\n",
              "      <td>6</td>\n",
              "      <td>NaN</td>\n",
              "      <td>NaN</td>\n",
              "      <td>13,000 people receive #wildfires evacuation or...</td>\n",
              "      <td>1</td>\n",
              "    </tr>\n",
              "    <tr>\n",
              "      <th>4</th>\n",
              "      <td>7</td>\n",
              "      <td>NaN</td>\n",
              "      <td>NaN</td>\n",
              "      <td>Just got sent this photo from Ruby #Alaska as ...</td>\n",
              "      <td>1</td>\n",
              "    </tr>\n",
              "    <tr>\n",
              "      <th>5</th>\n",
              "      <td>8</td>\n",
              "      <td>NaN</td>\n",
              "      <td>NaN</td>\n",
              "      <td>#RockyFire Update =&gt; California Hwy. 20 closed...</td>\n",
              "      <td>1</td>\n",
              "    </tr>\n",
              "    <tr>\n",
              "      <th>6</th>\n",
              "      <td>10</td>\n",
              "      <td>NaN</td>\n",
              "      <td>NaN</td>\n",
              "      <td>#flood #disaster Heavy rain causes flash flood...</td>\n",
              "      <td>1</td>\n",
              "    </tr>\n",
              "    <tr>\n",
              "      <th>7</th>\n",
              "      <td>13</td>\n",
              "      <td>NaN</td>\n",
              "      <td>NaN</td>\n",
              "      <td>I'm on top of the hill and I can see a fire in...</td>\n",
              "      <td>1</td>\n",
              "    </tr>\n",
              "    <tr>\n",
              "      <th>8</th>\n",
              "      <td>14</td>\n",
              "      <td>NaN</td>\n",
              "      <td>NaN</td>\n",
              "      <td>There's an emergency evacuation happening now ...</td>\n",
              "      <td>1</td>\n",
              "    </tr>\n",
              "    <tr>\n",
              "      <th>9</th>\n",
              "      <td>15</td>\n",
              "      <td>NaN</td>\n",
              "      <td>NaN</td>\n",
              "      <td>I'm afraid that the tornado is coming to our a...</td>\n",
              "      <td>1</td>\n",
              "    </tr>\n",
              "  </tbody>\n",
              "</table>\n",
              "</div>\n",
              "      <button class=\"colab-df-convert\" onclick=\"convertToInteractive('df-0a22ef69-f46f-4343-be37-3d22ee95eb54')\"\n",
              "              title=\"Convert this dataframe to an interactive table.\"\n",
              "              style=\"display:none;\">\n",
              "        \n",
              "  <svg xmlns=\"http://www.w3.org/2000/svg\" height=\"24px\"viewBox=\"0 0 24 24\"\n",
              "       width=\"24px\">\n",
              "    <path d=\"M0 0h24v24H0V0z\" fill=\"none\"/>\n",
              "    <path d=\"M18.56 5.44l.94 2.06.94-2.06 2.06-.94-2.06-.94-.94-2.06-.94 2.06-2.06.94zm-11 1L8.5 8.5l.94-2.06 2.06-.94-2.06-.94L8.5 2.5l-.94 2.06-2.06.94zm10 10l.94 2.06.94-2.06 2.06-.94-2.06-.94-.94-2.06-.94 2.06-2.06.94z\"/><path d=\"M17.41 7.96l-1.37-1.37c-.4-.4-.92-.59-1.43-.59-.52 0-1.04.2-1.43.59L10.3 9.45l-7.72 7.72c-.78.78-.78 2.05 0 2.83L4 21.41c.39.39.9.59 1.41.59.51 0 1.02-.2 1.41-.59l7.78-7.78 2.81-2.81c.8-.78.8-2.07 0-2.86zM5.41 20L4 18.59l7.72-7.72 1.47 1.35L5.41 20z\"/>\n",
              "  </svg>\n",
              "      </button>\n",
              "      \n",
              "  <style>\n",
              "    .colab-df-container {\n",
              "      display:flex;\n",
              "      flex-wrap:wrap;\n",
              "      gap: 12px;\n",
              "    }\n",
              "\n",
              "    .colab-df-convert {\n",
              "      background-color: #E8F0FE;\n",
              "      border: none;\n",
              "      border-radius: 50%;\n",
              "      cursor: pointer;\n",
              "      display: none;\n",
              "      fill: #1967D2;\n",
              "      height: 32px;\n",
              "      padding: 0 0 0 0;\n",
              "      width: 32px;\n",
              "    }\n",
              "\n",
              "    .colab-df-convert:hover {\n",
              "      background-color: #E2EBFA;\n",
              "      box-shadow: 0px 1px 2px rgba(60, 64, 67, 0.3), 0px 1px 3px 1px rgba(60, 64, 67, 0.15);\n",
              "      fill: #174EA6;\n",
              "    }\n",
              "\n",
              "    [theme=dark] .colab-df-convert {\n",
              "      background-color: #3B4455;\n",
              "      fill: #D2E3FC;\n",
              "    }\n",
              "\n",
              "    [theme=dark] .colab-df-convert:hover {\n",
              "      background-color: #434B5C;\n",
              "      box-shadow: 0px 1px 3px 1px rgba(0, 0, 0, 0.15);\n",
              "      filter: drop-shadow(0px 1px 2px rgba(0, 0, 0, 0.3));\n",
              "      fill: #FFFFFF;\n",
              "    }\n",
              "  </style>\n",
              "\n",
              "      <script>\n",
              "        const buttonEl =\n",
              "          document.querySelector('#df-0a22ef69-f46f-4343-be37-3d22ee95eb54 button.colab-df-convert');\n",
              "        buttonEl.style.display =\n",
              "          google.colab.kernel.accessAllowed ? 'block' : 'none';\n",
              "\n",
              "        async function convertToInteractive(key) {\n",
              "          const element = document.querySelector('#df-0a22ef69-f46f-4343-be37-3d22ee95eb54');\n",
              "          const dataTable =\n",
              "            await google.colab.kernel.invokeFunction('convertToInteractive',\n",
              "                                                     [key], {});\n",
              "          if (!dataTable) return;\n",
              "\n",
              "          const docLinkHtml = 'Like what you see? Visit the ' +\n",
              "            '<a target=\"_blank\" href=https://colab.research.google.com/notebooks/data_table.ipynb>data table notebook</a>'\n",
              "            + ' to learn more about interactive tables.';\n",
              "          element.innerHTML = '';\n",
              "          dataTable['output_type'] = 'display_data';\n",
              "          await google.colab.output.renderOutput(dataTable, element);\n",
              "          const docLink = document.createElement('div');\n",
              "          docLink.innerHTML = docLinkHtml;\n",
              "          element.appendChild(docLink);\n",
              "        }\n",
              "      </script>\n",
              "    </div>\n",
              "  </div>\n",
              "  "
            ],
            "text/plain": [
              "   id keyword  ...                                               text target\n",
              "0   1     NaN  ...  Our Deeds are the Reason of this #earthquake M...      1\n",
              "1   4     NaN  ...             Forest fire near La Ronge Sask. Canada      1\n",
              "2   5     NaN  ...  All residents asked to 'shelter in place' are ...      1\n",
              "3   6     NaN  ...  13,000 people receive #wildfires evacuation or...      1\n",
              "4   7     NaN  ...  Just got sent this photo from Ruby #Alaska as ...      1\n",
              "5   8     NaN  ...  #RockyFire Update => California Hwy. 20 closed...      1\n",
              "6  10     NaN  ...  #flood #disaster Heavy rain causes flash flood...      1\n",
              "7  13     NaN  ...  I'm on top of the hill and I can see a fire in...      1\n",
              "8  14     NaN  ...  There's an emergency evacuation happening now ...      1\n",
              "9  15     NaN  ...  I'm afraid that the tornado is coming to our a...      1\n",
              "\n",
              "[10 rows x 5 columns]"
            ]
          },
          "metadata": {},
          "execution_count": 4
        }
      ]
    },
    {
      "cell_type": "code",
      "source": [
        "train_df.info()"
      ],
      "metadata": {
        "colab": {
          "base_uri": "https://localhost:8080/"
        },
        "id": "TEcaPz_EaId-",
        "outputId": "3bdce9fa-c7a8-4cdb-8b3c-dc5cc7a58e2c"
      },
      "execution_count": 5,
      "outputs": [
        {
          "output_type": "stream",
          "name": "stdout",
          "text": [
            "<class 'pandas.core.frame.DataFrame'>\n",
            "RangeIndex: 7613 entries, 0 to 7612\n",
            "Data columns (total 5 columns):\n",
            " #   Column    Non-Null Count  Dtype \n",
            "---  ------    --------------  ----- \n",
            " 0   id        7613 non-null   int64 \n",
            " 1   keyword   7552 non-null   object\n",
            " 2   location  5080 non-null   object\n",
            " 3   text      7613 non-null   object\n",
            " 4   target    7613 non-null   int64 \n",
            "dtypes: int64(2), object(3)\n",
            "memory usage: 297.5+ KB\n"
          ]
        }
      ]
    },
    {
      "cell_type": "code",
      "source": [
        "# find out missing values\n",
        "missing_count = train_df.isnull().sum()\n",
        "\n",
        "missing_count"
      ],
      "metadata": {
        "colab": {
          "base_uri": "https://localhost:8080/"
        },
        "id": "lu_cqzCtaIau",
        "outputId": "d953b7c0-4dc7-4f44-800b-4248048c1ce8"
      },
      "execution_count": 6,
      "outputs": [
        {
          "output_type": "execute_result",
          "data": {
            "text/plain": [
              "id             0\n",
              "keyword       61\n",
              "location    2533\n",
              "text           0\n",
              "target         0\n",
              "dtype: int64"
            ]
          },
          "metadata": {},
          "execution_count": 6
        }
      ]
    },
    {
      "cell_type": "code",
      "source": [
        "missing_perc = train_df.isnull().mean().round(3)*100\n",
        "pd.DataFrame({'count':missing_count, 'percentage':missing_perc}).sort_values('count', ascending=False)"
      ],
      "metadata": {
        "colab": {
          "base_uri": "https://localhost:8080/",
          "height": 206
        },
        "id": "LFeUtnwAaIYz",
        "outputId": "c9b79a79-2c91-4121-8395-c296d8c6a2db"
      },
      "execution_count": 7,
      "outputs": [
        {
          "output_type": "execute_result",
          "data": {
            "text/html": [
              "\n",
              "  <div id=\"df-557fcde6-85f7-4cfa-a05b-ce683a5dba47\">\n",
              "    <div class=\"colab-df-container\">\n",
              "      <div>\n",
              "<style scoped>\n",
              "    .dataframe tbody tr th:only-of-type {\n",
              "        vertical-align: middle;\n",
              "    }\n",
              "\n",
              "    .dataframe tbody tr th {\n",
              "        vertical-align: top;\n",
              "    }\n",
              "\n",
              "    .dataframe thead th {\n",
              "        text-align: right;\n",
              "    }\n",
              "</style>\n",
              "<table border=\"1\" class=\"dataframe\">\n",
              "  <thead>\n",
              "    <tr style=\"text-align: right;\">\n",
              "      <th></th>\n",
              "      <th>count</th>\n",
              "      <th>percentage</th>\n",
              "    </tr>\n",
              "  </thead>\n",
              "  <tbody>\n",
              "    <tr>\n",
              "      <th>location</th>\n",
              "      <td>2533</td>\n",
              "      <td>33.3</td>\n",
              "    </tr>\n",
              "    <tr>\n",
              "      <th>keyword</th>\n",
              "      <td>61</td>\n",
              "      <td>0.8</td>\n",
              "    </tr>\n",
              "    <tr>\n",
              "      <th>id</th>\n",
              "      <td>0</td>\n",
              "      <td>0.0</td>\n",
              "    </tr>\n",
              "    <tr>\n",
              "      <th>text</th>\n",
              "      <td>0</td>\n",
              "      <td>0.0</td>\n",
              "    </tr>\n",
              "    <tr>\n",
              "      <th>target</th>\n",
              "      <td>0</td>\n",
              "      <td>0.0</td>\n",
              "    </tr>\n",
              "  </tbody>\n",
              "</table>\n",
              "</div>\n",
              "      <button class=\"colab-df-convert\" onclick=\"convertToInteractive('df-557fcde6-85f7-4cfa-a05b-ce683a5dba47')\"\n",
              "              title=\"Convert this dataframe to an interactive table.\"\n",
              "              style=\"display:none;\">\n",
              "        \n",
              "  <svg xmlns=\"http://www.w3.org/2000/svg\" height=\"24px\"viewBox=\"0 0 24 24\"\n",
              "       width=\"24px\">\n",
              "    <path d=\"M0 0h24v24H0V0z\" fill=\"none\"/>\n",
              "    <path d=\"M18.56 5.44l.94 2.06.94-2.06 2.06-.94-2.06-.94-.94-2.06-.94 2.06-2.06.94zm-11 1L8.5 8.5l.94-2.06 2.06-.94-2.06-.94L8.5 2.5l-.94 2.06-2.06.94zm10 10l.94 2.06.94-2.06 2.06-.94-2.06-.94-.94-2.06-.94 2.06-2.06.94z\"/><path d=\"M17.41 7.96l-1.37-1.37c-.4-.4-.92-.59-1.43-.59-.52 0-1.04.2-1.43.59L10.3 9.45l-7.72 7.72c-.78.78-.78 2.05 0 2.83L4 21.41c.39.39.9.59 1.41.59.51 0 1.02-.2 1.41-.59l7.78-7.78 2.81-2.81c.8-.78.8-2.07 0-2.86zM5.41 20L4 18.59l7.72-7.72 1.47 1.35L5.41 20z\"/>\n",
              "  </svg>\n",
              "      </button>\n",
              "      \n",
              "  <style>\n",
              "    .colab-df-container {\n",
              "      display:flex;\n",
              "      flex-wrap:wrap;\n",
              "      gap: 12px;\n",
              "    }\n",
              "\n",
              "    .colab-df-convert {\n",
              "      background-color: #E8F0FE;\n",
              "      border: none;\n",
              "      border-radius: 50%;\n",
              "      cursor: pointer;\n",
              "      display: none;\n",
              "      fill: #1967D2;\n",
              "      height: 32px;\n",
              "      padding: 0 0 0 0;\n",
              "      width: 32px;\n",
              "    }\n",
              "\n",
              "    .colab-df-convert:hover {\n",
              "      background-color: #E2EBFA;\n",
              "      box-shadow: 0px 1px 2px rgba(60, 64, 67, 0.3), 0px 1px 3px 1px rgba(60, 64, 67, 0.15);\n",
              "      fill: #174EA6;\n",
              "    }\n",
              "\n",
              "    [theme=dark] .colab-df-convert {\n",
              "      background-color: #3B4455;\n",
              "      fill: #D2E3FC;\n",
              "    }\n",
              "\n",
              "    [theme=dark] .colab-df-convert:hover {\n",
              "      background-color: #434B5C;\n",
              "      box-shadow: 0px 1px 3px 1px rgba(0, 0, 0, 0.15);\n",
              "      filter: drop-shadow(0px 1px 2px rgba(0, 0, 0, 0.3));\n",
              "      fill: #FFFFFF;\n",
              "    }\n",
              "  </style>\n",
              "\n",
              "      <script>\n",
              "        const buttonEl =\n",
              "          document.querySelector('#df-557fcde6-85f7-4cfa-a05b-ce683a5dba47 button.colab-df-convert');\n",
              "        buttonEl.style.display =\n",
              "          google.colab.kernel.accessAllowed ? 'block' : 'none';\n",
              "\n",
              "        async function convertToInteractive(key) {\n",
              "          const element = document.querySelector('#df-557fcde6-85f7-4cfa-a05b-ce683a5dba47');\n",
              "          const dataTable =\n",
              "            await google.colab.kernel.invokeFunction('convertToInteractive',\n",
              "                                                     [key], {});\n",
              "          if (!dataTable) return;\n",
              "\n",
              "          const docLinkHtml = 'Like what you see? Visit the ' +\n",
              "            '<a target=\"_blank\" href=https://colab.research.google.com/notebooks/data_table.ipynb>data table notebook</a>'\n",
              "            + ' to learn more about interactive tables.';\n",
              "          element.innerHTML = '';\n",
              "          dataTable['output_type'] = 'display_data';\n",
              "          await google.colab.output.renderOutput(dataTable, element);\n",
              "          const docLink = document.createElement('div');\n",
              "          docLink.innerHTML = docLinkHtml;\n",
              "          element.appendChild(docLink);\n",
              "        }\n",
              "      </script>\n",
              "    </div>\n",
              "  </div>\n",
              "  "
            ],
            "text/plain": [
              "          count  percentage\n",
              "location   2533        33.3\n",
              "keyword      61         0.8\n",
              "id            0         0.0\n",
              "text          0         0.0\n",
              "target        0         0.0"
            ]
          },
          "metadata": {},
          "execution_count": 7
        }
      ]
    },
    {
      "cell_type": "code",
      "source": [
        "# keyword and location are also categorical data\n",
        "train_df['location'].value_counts()"
      ],
      "metadata": {
        "colab": {
          "base_uri": "https://localhost:8080/"
        },
        "id": "79MCN85uaIVw",
        "outputId": "872ce04e-1696-4f60-9840-f32b9fbf2b6b"
      },
      "execution_count": 8,
      "outputs": [
        {
          "output_type": "execute_result",
          "data": {
            "text/plain": [
              "USA                    104\n",
              "New York                71\n",
              "United States           50\n",
              "London                  45\n",
              "Canada                  29\n",
              "                      ... \n",
              "MontrÌ©al, QuÌ©bec       1\n",
              "Montreal                 1\n",
              "ÌÏT: 6.4682,3.18287      1\n",
              "Live4Heed??              1\n",
              "Lincoln                  1\n",
              "Name: location, Length: 3341, dtype: int64"
            ]
          },
          "metadata": {},
          "execution_count": 8
        }
      ]
    },
    {
      "cell_type": "code",
      "source": [
        "# looking at the top 10 keywords from both classes\n",
        "disaster = train_df[train_df['target'] == 1]['location'].value_counts()\n",
        "non_disaster = train_df[train_df['target'] == 0]['location'].value_counts()\n",
        "\n",
        "dis = disaster[:10]\n",
        "non_dis = non_disaster[:10]\n",
        "\n",
        "fig = plt.figure(figsize=(10,5))\n",
        "fig, (sub1, sub2) = plt.subplots(1,2, figsize=(20,10))\n",
        "\n",
        "sns.barplot(x=dis.values, y=dis.index, ax=sub1, color='red')\n",
        "sub1.set(xlabel='counts', ylabel='locations', title='Disaster Tweets')\n",
        "\n",
        "sns.barplot(x=non_dis.values, y=non_dis.index, ax=sub2, color='blue')\n",
        "sub2.set(xlabel='counts', ylabel='locations', title='Non-Disaster Tweets')\n",
        "\n",
        "plt.show()"
      ],
      "metadata": {
        "colab": {
          "base_uri": "https://localhost:8080/",
          "height": 638
        },
        "id": "acLXuGd9aITx",
        "outputId": "de418ea8-4602-45ba-e7e8-184dd60dc98f"
      },
      "execution_count": 9,
      "outputs": [
        {
          "output_type": "display_data",
          "data": {
            "text/plain": [
              "<Figure size 720x360 with 0 Axes>"
            ]
          },
          "metadata": {}
        },
        {
          "output_type": "display_data",
          "data": {
            "image/png": "[encoded data removed]",
            "text/plain": [
              "<Figure size 1440x720 with 2 Axes>"
            ]
          },
          "metadata": {
            "needs_background": "light"
          }
        }
      ]
    },
    {
      "cell_type": "code",
      "source": [
        "train_df['keyword'].value_counts()"
      ],
      "metadata": {
        "colab": {
          "base_uri": "https://localhost:8080/"
        },
        "id": "9yKaNwvXaIRG",
        "outputId": "d465b578-5e6c-4a8f-fec4-97d9573e4285"
      },
      "execution_count": 10,
      "outputs": [
        {
          "output_type": "execute_result",
          "data": {
            "text/plain": [
              "fatalities               45\n",
              "deluge                   42\n",
              "armageddon               42\n",
              "sinking                  41\n",
              "damage                   41\n",
              "                         ..\n",
              "forest%20fire            19\n",
              "epicentre                12\n",
              "threat                   11\n",
              "inundation               10\n",
              "radiation%20emergency     9\n",
              "Name: keyword, Length: 221, dtype: int64"
            ]
          },
          "metadata": {},
          "execution_count": 10
        }
      ]
    },
    {
      "cell_type": "code",
      "source": [
        "# looking at the top 10 keywords from both classes\n",
        "disaster = train_df[train_df['target'] == 1]['keyword'].value_counts()\n",
        "non_disaster = train_df[train_df['target'] == 0]['keyword'].value_counts()\n",
        "\n",
        "dis = disaster[:10]\n",
        "non_dis = non_disaster[:10]\n",
        "\n",
        "fig = plt.figure(figsize=(10,5))\n",
        "fig, (sub1, sub2) = plt.subplots(1,2, figsize=(20,10))\n",
        "\n",
        "sns.barplot(x=dis.values, y=dis.index, ax=sub1, color='red')\n",
        "sub1.set(xlabel='counts', ylabel='keyword', title='Disaster Tweets')\n",
        "\n",
        "sns.barplot(x=non_dis.values, y=non_dis.index, ax=sub2, color='blue')\n",
        "sub2.set(xlabel='counts', ylabel='keyword', title='Non-Disaster Tweets')\n",
        "\n",
        "plt.show()"
      ],
      "metadata": {
        "colab": {
          "base_uri": "https://localhost:8080/",
          "height": 638
        },
        "id": "8OrdS6BTaIPC",
        "outputId": "8da0aa2e-2a86-4575-b1f5-8e3322fabafb"
      },
      "execution_count": 11,
      "outputs": [
        {
          "output_type": "display_data",
          "data": {
            "text/plain": [
              "<Figure size 720x360 with 0 Axes>"
            ]
          },
          "metadata": {}
        },
        {
          "output_type": "display_data",
          "data": {
            "image/png": "[encoded data removed]",
            "text/plain": [
              "<Figure size 1440x720 with 2 Axes>"
            ]
          },
          "metadata": {
            "needs_background": "light"
          }
        }
      ]
    },
    {
      "cell_type": "code",
      "source": [
        "# checking the target class distribution\n",
        "sns.set_theme(style='whitegrid')\n",
        "sns.countplot(x='target', data=train_df, palette=['blue', 'red'])"
      ],
      "metadata": {
        "colab": {
          "base_uri": "https://localhost:8080/",
          "height": 302
        },
        "id": "rTMJuCFTaILK",
        "outputId": "d3afaf51-1e2c-4e24-c456-a2706129accd"
      },
      "execution_count": 12,
      "outputs": [
        {
          "output_type": "execute_result",
          "data": {
            "text/plain": [
              "<matplotlib.axes._subplots.AxesSubplot at 0x7fe4fdcc3d50>"
            ]
          },
          "metadata": {},
          "execution_count": 12
        },
        {
          "output_type": "display_data",
          "data": {
            "image/png": "[encoded data removed]",
            "text/plain": [
              "<Figure size 432x288 with 1 Axes>"
            ]
          },
          "metadata": {}
        }
      ]
    },
    {
      "cell_type": "code",
      "source": [
        "# filling the NaN values in location and keyword\n",
        "train_df['location'] = train_df['location'].fillna(\"\")\n",
        "train_df['keyword'] = train_df['keyword'].fillna(\"\")"
      ],
      "metadata": {
        "id": "mqUnHLqOaIJf"
      },
      "execution_count": 13,
      "outputs": []
    },
    {
      "cell_type": "code",
      "source": [
        "train_df.isnull().sum()"
      ],
      "metadata": {
        "colab": {
          "base_uri": "https://localhost:8080/"
        },
        "id": "r7o_E1y9aH7d",
        "outputId": "129cf19e-d5bd-4871-8851-04927088d591"
      },
      "execution_count": 14,
      "outputs": [
        {
          "output_type": "execute_result",
          "data": {
            "text/plain": [
              "id          0\n",
              "keyword     0\n",
              "location    0\n",
              "text        0\n",
              "target      0\n",
              "dtype: int64"
            ]
          },
          "metadata": {},
          "execution_count": 14
        }
      ]
    },
    {
      "cell_type": "code",
      "source": [
        "# pre-preprocessing functions\n",
        "from bs4 import BeautifulSoup\n",
        "from nltk.stem import PorterStemmer, WordNetLemmatizer"
      ],
      "metadata": {
        "id": "YLn-OvOvaH3h"
      },
      "execution_count": 15,
      "outputs": []
    },
    {
      "cell_type": "code",
      "source": [
        "def cleanpunc(sentence):\n",
        "    cleaned = [char for char in sentence if char not in string.punctuation]\n",
        "    cleaned = ''.join(cleaned)\n",
        "    return cleaned\n",
        "\n",
        "def decontracted(sentence):\n",
        "    # specific\n",
        "    sentence = re.sub(r\"won't\", \"will not\", sentence)\n",
        "    sentence = re.sub(r\"can\\'t\", \"can not\", sentence)\n",
        "\n",
        "    # general\n",
        "    sentence = re.sub(r\"n\\'t\", \" not\", sentence)\n",
        "    sentence = re.sub(r\"\\'re\", \" are\", sentence)\n",
        "    sentence = re.sub(r\"\\'s\", \" is\", sentence)\n",
        "    sentence = re.sub(r\"\\'d\", \" would\", sentence)\n",
        "    sentence = re.sub(r\"\\'ll\", \" will\", sentence)\n",
        "    sentence = re.sub(r\"\\'t\", \" not\", sentence)\n",
        "    sentence = re.sub(r\"\\'ve\", \" have\", sentence)\n",
        "    sentence = re.sub(r\"\\'m\", \" am\", sentence)\n",
        "    return sentence    \n",
        "\n",
        "def remove_emoji(sentence):\n",
        "    # taken from: https://www.kaggle.com/lovroselic/disaster-ls\n",
        "    emoji_pattern = re.compile(\"[\"\n",
        "                    u\"\\U0001F600-\\U0001F64F\"  # emoticons\n",
        "                    u\"\\U0001F300-\\U0001F5FF\"  # symbols & pictographs\n",
        "                    u\"\\U0001F680-\\U0001F6FF\"  # transport & map symbols\n",
        "                    u\"\\U0001F1E0-\\U0001F1FF\"  # flags (iOS)\n",
        "                    u\"\\U00002702-\\U000027B0\"\n",
        "                    u\"\\U000024C2-\\U0001F251\"\n",
        "                    \"]+\", flags=re.UNICODE)\n",
        "    return emoji_pattern.sub(r'', sentence)\n",
        "\n",
        "stopw = set(stopwords.words('english'))\n",
        "stemmer = PorterStemmer()\n",
        "lemmatizer = WordNetLemmatizer()\n",
        "\n",
        "def preprocess(sentence):\n",
        "    sentence = remove_emoji(sentence)\n",
        "    sentence = re.sub(r\"http\\S+\", \"\", sentence)\n",
        "    sentence = BeautifulSoup(sentence, 'html.parser').get_text()\n",
        "    sentence = decontracted(sentence)\n",
        "    sentence = re.sub(\"\\S*\\d\\S*\", \"\", sentence).strip()\n",
        "    sentence = re.sub('[^A-Za-z]+', ' ', sentence)\n",
        "    sentence = \" \".join([stemmer.stem(word) for word in sentence.split()])\n",
        "    sentence = \" \".join(lemmatizer.lemmatize(word) for word in sentence.split())\n",
        "    sentence = cleanpunc(sentence)\n",
        "    sentence = ' '.join(e.lower() for e in sentence.split() if e.lower() not in stopw)\n",
        "    return sentence\n"
      ],
      "metadata": {
        "id": "m5suld2LaH1o"
      },
      "execution_count": 23,
      "outputs": []
    },
    {
      "cell_type": "code",
      "source": [
        "# combining the keyword field with text\n",
        "train_df['Text'] = train_df['text']+\" \"+train_df['keyword']"
      ],
      "metadata": {
        "id": "gD3Xl0oxaHxk"
      },
      "execution_count": 19,
      "outputs": []
    },
    {
      "cell_type": "code",
      "source": [
        "train_df.head()"
      ],
      "metadata": {
        "colab": {
          "base_uri": "https://localhost:8080/",
          "height": 206
        },
        "id": "8Rj9VAMaaHvv",
        "outputId": "9a3b16dc-d79c-4757-aa7c-5bfb2b061c7a"
      },
      "execution_count": 20,
      "outputs": [
        {
          "output_type": "execute_result",
          "data": {
            "text/html": [
              "\n",
              "  <div id=\"df-781f5922-952a-43da-ae34-6deb56f9d2ff\">\n",
              "    <div class=\"colab-df-container\">\n",
              "      <div>\n",
              "<style scoped>\n",
              "    .dataframe tbody tr th:only-of-type {\n",
              "        vertical-align: middle;\n",
              "    }\n",
              "\n",
              "    .dataframe tbody tr th {\n",
              "        vertical-align: top;\n",
              "    }\n",
              "\n",
              "    .dataframe thead th {\n",
              "        text-align: right;\n",
              "    }\n",
              "</style>\n",
              "<table border=\"1\" class=\"dataframe\">\n",
              "  <thead>\n",
              "    <tr style=\"text-align: right;\">\n",
              "      <th></th>\n",
              "      <th>id</th>\n",
              "      <th>keyword</th>\n",
              "      <th>location</th>\n",
              "      <th>text</th>\n",
              "      <th>target</th>\n",
              "      <th>Text</th>\n",
              "    </tr>\n",
              "  </thead>\n",
              "  <tbody>\n",
              "    <tr>\n",
              "      <th>0</th>\n",
              "      <td>1</td>\n",
              "      <td></td>\n",
              "      <td></td>\n",
              "      <td>Our Deeds are the Reason of this #earthquake M...</td>\n",
              "      <td>1</td>\n",
              "      <td>Our Deeds are the Reason of this #earthquake M...</td>\n",
              "    </tr>\n",
              "    <tr>\n",
              "      <th>1</th>\n",
              "      <td>4</td>\n",
              "      <td></td>\n",
              "      <td></td>\n",
              "      <td>Forest fire near La Ronge Sask. Canada</td>\n",
              "      <td>1</td>\n",
              "      <td>Forest fire near La Ronge Sask. Canada</td>\n",
              "    </tr>\n",
              "    <tr>\n",
              "      <th>2</th>\n",
              "      <td>5</td>\n",
              "      <td></td>\n",
              "      <td></td>\n",
              "      <td>All residents asked to 'shelter in place' are ...</td>\n",
              "      <td>1</td>\n",
              "      <td>All residents asked to 'shelter in place' are ...</td>\n",
              "    </tr>\n",
              "    <tr>\n",
              "      <th>3</th>\n",
              "      <td>6</td>\n",
              "      <td></td>\n",
              "      <td></td>\n",
              "      <td>13,000 people receive #wildfires evacuation or...</td>\n",
              "      <td>1</td>\n",
              "      <td>13,000 people receive #wildfires evacuation or...</td>\n",
              "    </tr>\n",
              "    <tr>\n",
              "      <th>4</th>\n",
              "      <td>7</td>\n",
              "      <td></td>\n",
              "      <td></td>\n",
              "      <td>Just got sent this photo from Ruby #Alaska as ...</td>\n",
              "      <td>1</td>\n",
              "      <td>Just got sent this photo from Ruby #Alaska as ...</td>\n",
              "    </tr>\n",
              "  </tbody>\n",
              "</table>\n",
              "</div>\n",
              "      <button class=\"colab-df-convert\" onclick=\"convertToInteractive('df-781f5922-952a-43da-ae34-6deb56f9d2ff')\"\n",
              "              title=\"Convert this dataframe to an interactive table.\"\n",
              "              style=\"display:none;\">\n",
              "        \n",
              "  <svg xmlns=\"http://www.w3.org/2000/svg\" height=\"24px\"viewBox=\"0 0 24 24\"\n",
              "       width=\"24px\">\n",
              "    <path d=\"M0 0h24v24H0V0z\" fill=\"none\"/>\n",
              "    <path d=\"M18.56 5.44l.94 2.06.94-2.06 2.06-.94-2.06-.94-.94-2.06-.94 2.06-2.06.94zm-11 1L8.5 8.5l.94-2.06 2.06-.94-2.06-.94L8.5 2.5l-.94 2.06-2.06.94zm10 10l.94 2.06.94-2.06 2.06-.94-2.06-.94-.94-2.06-.94 2.06-2.06.94z\"/><path d=\"M17.41 7.96l-1.37-1.37c-.4-.4-.92-.59-1.43-.59-.52 0-1.04.2-1.43.59L10.3 9.45l-7.72 7.72c-.78.78-.78 2.05 0 2.83L4 21.41c.39.39.9.59 1.41.59.51 0 1.02-.2 1.41-.59l7.78-7.78 2.81-2.81c.8-.78.8-2.07 0-2.86zM5.41 20L4 18.59l7.72-7.72 1.47 1.35L5.41 20z\"/>\n",
              "  </svg>\n",
              "      </button>\n",
              "      \n",
              "  <style>\n",
              "    .colab-df-container {\n",
              "      display:flex;\n",
              "      flex-wrap:wrap;\n",
              "      gap: 12px;\n",
              "    }\n",
              "\n",
              "    .colab-df-convert {\n",
              "      background-color: #E8F0FE;\n",
              "      border: none;\n",
              "      border-radius: 50%;\n",
              "      cursor: pointer;\n",
              "      display: none;\n",
              "      fill: #1967D2;\n",
              "      height: 32px;\n",
              "      padding: 0 0 0 0;\n",
              "      width: 32px;\n",
              "    }\n",
              "\n",
              "    .colab-df-convert:hover {\n",
              "      background-color: #E2EBFA;\n",
              "      box-shadow: 0px 1px 2px rgba(60, 64, 67, 0.3), 0px 1px 3px 1px rgba(60, 64, 67, 0.15);\n",
              "      fill: #174EA6;\n",
              "    }\n",
              "\n",
              "    [theme=dark] .colab-df-convert {\n",
              "      background-color: #3B4455;\n",
              "      fill: #D2E3FC;\n",
              "    }\n",
              "\n",
              "    [theme=dark] .colab-df-convert:hover {\n",
              "      background-color: #434B5C;\n",
              "      box-shadow: 0px 1px 3px 1px rgba(0, 0, 0, 0.15);\n",
              "      filter: drop-shadow(0px 1px 2px rgba(0, 0, 0, 0.3));\n",
              "      fill: #FFFFFF;\n",
              "    }\n",
              "  </style>\n",
              "\n",
              "      <script>\n",
              "        const buttonEl =\n",
              "          document.querySelector('#df-781f5922-952a-43da-ae34-6deb56f9d2ff button.colab-df-convert');\n",
              "        buttonEl.style.display =\n",
              "          google.colab.kernel.accessAllowed ? 'block' : 'none';\n",
              "\n",
              "        async function convertToInteractive(key) {\n",
              "          const element = document.querySelector('#df-781f5922-952a-43da-ae34-6deb56f9d2ff');\n",
              "          const dataTable =\n",
              "            await google.colab.kernel.invokeFunction('convertToInteractive',\n",
              "                                                     [key], {});\n",
              "          if (!dataTable) return;\n",
              "\n",
              "          const docLinkHtml = 'Like what you see? Visit the ' +\n",
              "            '<a target=\"_blank\" href=https://colab.research.google.com/notebooks/data_table.ipynb>data table notebook</a>'\n",
              "            + ' to learn more about interactive tables.';\n",
              "          element.innerHTML = '';\n",
              "          dataTable['output_type'] = 'display_data';\n",
              "          await google.colab.output.renderOutput(dataTable, element);\n",
              "          const docLink = document.createElement('div');\n",
              "          docLink.innerHTML = docLinkHtml;\n",
              "          element.appendChild(docLink);\n",
              "        }\n",
              "      </script>\n",
              "    </div>\n",
              "  </div>\n",
              "  "
            ],
            "text/plain": [
              "   id keyword  ... target                                               Text\n",
              "0   1          ...      1  Our Deeds are the Reason of this #earthquake M...\n",
              "1   4          ...      1            Forest fire near La Ronge Sask. Canada \n",
              "2   5          ...      1  All residents asked to 'shelter in place' are ...\n",
              "3   6          ...      1  13,000 people receive #wildfires evacuation or...\n",
              "4   7          ...      1  Just got sent this photo from Ruby #Alaska as ...\n",
              "\n",
              "[5 rows x 6 columns]"
            ]
          },
          "metadata": {},
          "execution_count": 20
        }
      ]
    },
    {
      "cell_type": "code",
      "source": [
        "train_df.Text = train_df.Text.apply(preprocess)\n",
        "train_df.Text.head(10)"
      ],
      "metadata": {
        "colab": {
          "base_uri": "https://localhost:8080/"
        },
        "id": "PCNHSYlEaHsX",
        "outputId": "ce44d6f8-14c4-4e8a-89b3-41d2f06c7090"
      },
      "execution_count": 24,
      "outputs": [
        {
          "output_type": "execute_result",
          "data": {
            "text/plain": [
              "0         deed reason thi earthquak may allah forgiv u\n",
              "1                 forest fire near la rong sask canada\n",
              "2    resid ask ishelt place notifi offic evacu shel...\n",
              "3          peopl receiv wildfir evacu order california\n",
              "4    got sent thi photo rubi alaska smoke wildfir p...\n",
              "5    rockyfir updat california hwi close direct due...\n",
              "6    flood disast heavi rain caus flash flood stree...\n",
              "7                               top hill see fire wood\n",
              "8               emerg evacu happen build across street\n",
              "9                             afraid tornado come area\n",
              "Name: Text, dtype: object"
            ]
          },
          "metadata": {},
          "execution_count": 24
        }
      ]
    },
    {
      "cell_type": "code",
      "source": [
        "# storing the pre-processed text as a list\n",
        "ppt = list(train_df.Text.values)\n",
        "pickle.dump(ppt, open('ppt.pkl', 'wb'))"
      ],
      "metadata": {
        "id": "TKC4pHy-aHqe"
      },
      "execution_count": 25,
      "outputs": []
    },
    {
      "cell_type": "code",
      "source": [
        "len(ppt)"
      ],
      "metadata": {
        "colab": {
          "base_uri": "https://localhost:8080/"
        },
        "id": "m5BDq16oaHny",
        "outputId": "057a5a0d-13a0-48a2-a9f4-e95e4f74bb2e"
      },
      "execution_count": 26,
      "outputs": [
        {
          "output_type": "execute_result",
          "data": {
            "text/plain": [
              "7613"
            ]
          },
          "metadata": {},
          "execution_count": 26
        }
      ]
    },
    {
      "cell_type": "markdown",
      "source": [
        "### Vectorizing"
      ],
      "metadata": {
        "id": "hu9tNzMGbL_u"
      }
    },
    {
      "cell_type": "markdown",
      "source": [
        "#### 1. Using Bag-of-Words:"
      ],
      "metadata": {
        "id": "UbEwm5_XbHf-"
      }
    },
    {
      "cell_type": "code",
      "source": [
        "bow = CountVectorizer(max_features=6000, ngram_range=(1,3))\n",
        "bow_df = bow.fit_transform(train_df['Text']).toarray()\n",
        "bow_df.shape"
      ],
      "metadata": {
        "colab": {
          "base_uri": "https://localhost:8080/"
        },
        "id": "1p8lUvx7aHlk",
        "outputId": "5f7e5c9b-ef4c-4a7f-c8ed-ef5739f0108d"
      },
      "execution_count": 27,
      "outputs": [
        {
          "output_type": "execute_result",
          "data": {
            "text/plain": [
              "(7613, 6000)"
            ]
          },
          "metadata": {},
          "execution_count": 27
        }
      ]
    },
    {
      "cell_type": "code",
      "source": [
        "bow_X = bow_df\n",
        "print(bow_X.shape)"
      ],
      "metadata": {
        "colab": {
          "base_uri": "https://localhost:8080/"
        },
        "id": "Z5H4LV0JaHiw",
        "outputId": "0cc3643c-a100-49ce-aad4-343cfe43fb4f"
      },
      "execution_count": 28,
      "outputs": [
        {
          "output_type": "stream",
          "name": "stdout",
          "text": [
            "(7613, 6000)\n"
          ]
        }
      ]
    },
    {
      "cell_type": "code",
      "source": [
        "pickle.dump(bow_X, open('bow_X.pkl', 'wb'))"
      ],
      "metadata": {
        "id": "fRkcdsYzaHgt"
      },
      "execution_count": 29,
      "outputs": []
    },
    {
      "cell_type": "markdown",
      "source": [
        "### 2. Using Tf-Idf Vectorizer"
      ],
      "metadata": {
        "id": "3g6QO33EbVpa"
      }
    },
    {
      "cell_type": "code",
      "source": [
        "tfidf = TfidfVectorizer(max_features=6000, ngram_range=(1,3))\n",
        "tfidf_X = tfidf.fit_transform(train_df['Text']).toarray()\n",
        "tfidf_X.shape"
      ],
      "metadata": {
        "colab": {
          "base_uri": "https://localhost:8080/"
        },
        "id": "qYa1yCdIaHdl",
        "outputId": "8d714477-146c-4878-81f8-8771197ebfbc"
      },
      "execution_count": 30,
      "outputs": [
        {
          "output_type": "execute_result",
          "data": {
            "text/plain": [
              "(7613, 6000)"
            ]
          },
          "metadata": {},
          "execution_count": 30
        }
      ]
    },
    {
      "cell_type": "code",
      "source": [
        "print(tfidf_X.shape)"
      ],
      "metadata": {
        "colab": {
          "base_uri": "https://localhost:8080/"
        },
        "id": "LO-QikZQaHbs",
        "outputId": "3f6ff75e-468e-4211-9e06-dca71ac542ac"
      },
      "execution_count": 31,
      "outputs": [
        {
          "output_type": "stream",
          "name": "stdout",
          "text": [
            "(7613, 6000)\n"
          ]
        }
      ]
    },
    {
      "cell_type": "code",
      "source": [
        "pickle.dump(tfidf_X, open('tfidf_X.pkl', 'wb'))"
      ],
      "metadata": {
        "id": "5HCB198TaHYa"
      },
      "execution_count": 32,
      "outputs": []
    },
    {
      "cell_type": "markdown",
      "source": [
        "### 3. Using HashingVectorizer"
      ],
      "metadata": {
        "id": "kQPYDjbubdpL"
      }
    },
    {
      "cell_type": "code",
      "source": [
        "hv = HashingVectorizer(alternate_sign=False,n_features=6000, ngram_range=(1,3))\n",
        "hv_X = hv.fit_transform(train_df['Text']).toarray()\n",
        "hv_X.shape"
      ],
      "metadata": {
        "colab": {
          "base_uri": "https://localhost:8080/"
        },
        "id": "SEvPmGlIaHWb",
        "outputId": "2167432c-ee76-4b01-e7d9-a71ad8c91faf"
      },
      "execution_count": 33,
      "outputs": [
        {
          "output_type": "execute_result",
          "data": {
            "text/plain": [
              "(7613, 6000)"
            ]
          },
          "metadata": {},
          "execution_count": 33
        }
      ]
    },
    {
      "cell_type": "code",
      "source": [
        "pickle.dump(hv_X, open('hv_X.pkl', 'wb'))"
      ],
      "metadata": {
        "id": "J2-ESbVCaHTF"
      },
      "execution_count": 34,
      "outputs": []
    },
    {
      "cell_type": "markdown",
      "source": [
        "## Modelling:"
      ],
      "metadata": {
        "id": "bWrQxWZDbjgy"
      }
    },
    {
      "cell_type": "code",
      "source": [
        "from sklearn.linear_model import LogisticRegression\n",
        "from sklearn.linear_model import SGDClassifier\n",
        "from sklearn.naive_bayes import MultinomialNB\n",
        "from sklearn.neighbors import KNeighborsClassifier\n",
        "from sklearn.tree import DecisionTreeClassifier\n",
        "from sklearn.model_selection import GridSearchCV\n",
        "from sklearn.ensemble import RandomForestClassifier\n",
        "from tqdm import tqdm"
      ],
      "metadata": {
        "id": "HtGHITuWaHRb"
      },
      "execution_count": 35,
      "outputs": []
    },
    {
      "cell_type": "code",
      "source": [
        "from sklearn.metrics import confusion_matrix, accuracy_score, roc_curve, roc_auc_score\n",
        "from sklearn import metrics"
      ],
      "metadata": {
        "id": "OmAITxobaHOi"
      },
      "execution_count": 36,
      "outputs": []
    },
    {
      "cell_type": "code",
      "source": [
        "y = train_df['target'].values\n",
        "y.shape"
      ],
      "metadata": {
        "colab": {
          "base_uri": "https://localhost:8080/"
        },
        "id": "0yKIfG1laHMj",
        "outputId": "9f5eb419-0961-4ce0-dd9b-0df75809edd8"
      },
      "execution_count": 37,
      "outputs": [
        {
          "output_type": "execute_result",
          "data": {
            "text/plain": [
              "(7613,)"
            ]
          },
          "metadata": {},
          "execution_count": 37
        }
      ]
    },
    {
      "cell_type": "code",
      "source": [
        "# train test split for bow features\n",
        "X_trainb, X_testb, y_trainb, y_testb = train_test_split(bow_X, y, test_size=0.25, random_state=42)\n",
        "print(X_trainb.shape, y_trainb.shape)\n",
        "print(X_testb.shape, y_testb.shape)"
      ],
      "metadata": {
        "colab": {
          "base_uri": "https://localhost:8080/"
        },
        "id": "5QjEHV-3aHJx",
        "outputId": "9c1d1f90-b918-44c5-9274-334235ed51b7"
      },
      "execution_count": 38,
      "outputs": [
        {
          "output_type": "stream",
          "name": "stdout",
          "text": [
            "(5709, 6000) (5709,)\n",
            "(1904, 6000) (1904,)\n"
          ]
        }
      ]
    },
    {
      "cell_type": "code",
      "source": [
        "# train test split for tfidf features\n",
        "X_traint, X_testt, y_traint, y_testt = train_test_split(tfidf_X, y, test_size=0.25, random_state=42)\n",
        "print(X_traint.shape, y_traint.shape)\n",
        "print(X_testt.shape, y_testt.shape)"
      ],
      "metadata": {
        "colab": {
          "base_uri": "https://localhost:8080/"
        },
        "id": "V5IHcorcaHH4",
        "outputId": "006b73a7-4899-44f1-d87a-71288728c12a"
      },
      "execution_count": 39,
      "outputs": [
        {
          "output_type": "stream",
          "name": "stdout",
          "text": [
            "(5709, 6000) (5709,)\n",
            "(1904, 6000) (1904,)\n"
          ]
        }
      ]
    },
    {
      "cell_type": "code",
      "source": [
        "# train test split for hashing vec features\n",
        "X_trainh, X_testh, y_trainh, y_testh = train_test_split(hv_X, y, test_size=0.25, random_state=42)\n",
        "print(X_trainh.shape, y_trainh.shape)\n",
        "print(X_testh.shape, y_testh.shape)"
      ],
      "metadata": {
        "colab": {
          "base_uri": "https://localhost:8080/"
        },
        "id": "U4dS51UjbbtS",
        "outputId": "9ad60597-5a8c-4811-f315-caf19a737eae"
      },
      "execution_count": 40,
      "outputs": [
        {
          "output_type": "stream",
          "name": "stdout",
          "text": [
            "(5709, 6000) (5709,)\n",
            "(1904, 6000) (1904,)\n"
          ]
        }
      ]
    },
    {
      "cell_type": "code",
      "source": [
        "def get_roc_curve(X_train, y_train, X_test, y_test, model, title):\n",
        "    \n",
        "    model.fit(X_train, y_train)\n",
        "\n",
        "    y_pred_tr = model.predict(X_train)\n",
        "    y_pred_te = model.predict(X_test)\n",
        "    fpr_tr, tpr_tr, _tr = metrics.roc_curve(y_train,  y_pred_tr)\n",
        "    fpr_te, tpr_te, _te = metrics.roc_curve(y_test,  y_pred_te)\n",
        "    auc_tr_bow_lr = metrics.roc_auc_score(y_train, y_pred_tr)\n",
        "    auc_te_bow_lr = metrics.roc_auc_score(y_test, y_pred_te)\n",
        "    plt.plot(fpr_tr,tpr_tr,label=\"Train, auc=\"+str(auc_tr_bow_lr))\n",
        "    plt.plot(fpr_te,tpr_te,label=\"Test, auc=\"+str(auc_te_bow_lr))\n",
        "    plt.legend(loc=4)\n",
        "    plt.title(title)\n",
        "    plt.show()"
      ],
      "metadata": {
        "id": "qnAIZ86pbbrf"
      },
      "execution_count": 41,
      "outputs": []
    },
    {
      "cell_type": "markdown",
      "source": [
        "#### 1. Logistic Regression\n"
      ],
      "metadata": {
        "id": "Mjki_8GobyFk"
      }
    },
    {
      "cell_type": "code",
      "source": [
        "def train_lr(X_train, y_train, X_test, y_test):\n",
        "    \"\"\"\n",
        "    Function to perform grid search for hyperparam tuning for LR\n",
        "    \"\"\"\n",
        "    gsc = GridSearchCV(\n",
        "        estimator = SGDClassifier(loss='log'),\n",
        "        param_grid = {\n",
        "            'alpha': [0.00001, 0.00005, 0.0001, 0.001, 0.01, 0.1, 0.5, 1, 5, 10, 20, 50, 100]\n",
        "        }, cv=5, scoring='accuracy', n_jobs=-1)\n",
        "    result = gsc.fit(X_train,y_train)\n",
        "    best_params = result.best_params_\n",
        "    print(f\"The best params obtained are:{best_params}\")\n",
        "    print(f\"Training accuracy: {gsc.score(X_train,y_train)}\")\n",
        "    print(f\"Test accuracy: {gsc.score(X_test,y_test)}\")\n",
        "    best_lr = SGDClassifier(loss='log', alpha=best_params['alpha'])\n",
        "    return best_params, best_lr"
      ],
      "metadata": {
        "id": "V8sR_h1Vbbp1"
      },
      "execution_count": 42,
      "outputs": []
    },
    {
      "cell_type": "code",
      "source": [
        "# training with bow\n",
        "print(\"Training with Bag-of-Words features:\")\n",
        "params, model = train_lr(X_trainb, y_trainb, X_testb, y_testb)"
      ],
      "metadata": {
        "colab": {
          "base_uri": "https://localhost:8080/"
        },
        "id": "NnoGTiztbbnS",
        "outputId": "3228ecb9-8fbb-4ac6-d61c-d1613568e704"
      },
      "execution_count": 43,
      "outputs": [
        {
          "output_type": "stream",
          "name": "stdout",
          "text": [
            "Training with Bag-of-Words features:\n",
            "The best params obtained are:{'alpha': 0.001}\n",
            "Training accuracy: 0.8709055876685935\n",
            "Test accuracy: 0.8088235294117647\n"
          ]
        }
      ]
    },
    {
      "cell_type": "code",
      "source": [
        "get_roc_curve(X_trainb, y_trainb, X_testb, y_testb, model, \"Bow+LR\")"
      ],
      "metadata": {
        "id": "i2AYxTUQbbk_"
      },
      "execution_count": null,
      "outputs": []
    },
    {
      "cell_type": "code",
      "source": [
        "# training with tfidf\n",
        "print(\"Training with Tfidf features:\")\n",
        "params, model = train_lr(X_traint, y_traint, X_testt, y_testt)"
      ],
      "metadata": {
        "colab": {
          "base_uri": "https://localhost:8080/"
        },
        "id": "RvF-H_5ibbii",
        "outputId": "9f97cacd-469c-40cb-c21d-11832cb43e8f"
      },
      "execution_count": 45,
      "outputs": [
        {
          "output_type": "stream",
          "name": "stdout",
          "text": [
            "Training with Tfidf features:\n",
            "The best params obtained are:{'alpha': 0.0001}\n",
            "Training accuracy: 0.8733578560168156\n",
            "Test accuracy: 0.7988445378151261\n"
          ]
        }
      ]
    },
    {
      "cell_type": "code",
      "source": [
        "get_roc_curve(X_traint, y_traint, X_testt, y_testt, model, \"tfidf+LR\")"
      ],
      "metadata": {
        "id": "5EtOWvaFbbfO"
      },
      "execution_count": null,
      "outputs": []
    },
    {
      "cell_type": "code",
      "source": [
        "# training with Hashing Vectorizer\n",
        "print(\"Training with HashingVectorizer features:\")\n",
        "params, model = train_lr(X_trainh, y_trainh, X_testh, y_testh)\n"
      ],
      "metadata": {
        "colab": {
          "base_uri": "https://localhost:8080/"
        },
        "id": "4H-pre4pbbdj",
        "outputId": "d63b085e-8581-4f48-e189-ad0e92b28b34"
      },
      "execution_count": 48,
      "outputs": [
        {
          "output_type": "stream",
          "name": "stdout",
          "text": [
            "Training with HashingVectorizer features:\n",
            "The best params obtained are:{'alpha': 0.0001}\n",
            "Training accuracy: 0.8894727623051323\n",
            "Test accuracy: 0.7673319327731093\n"
          ]
        }
      ]
    },
    {
      "cell_type": "code",
      "source": [
        "get_roc_curve(X_trainh, y_trainh, X_testh, y_testh, model, \"Hv+LR\")"
      ],
      "metadata": {
        "id": "zc5IuQojp8zF"
      },
      "execution_count": null,
      "outputs": []
    },
    {
      "cell_type": "markdown",
      "source": [
        "#### 2. SVM"
      ],
      "metadata": {
        "id": "sHyr525dcKFx"
      }
    },
    {
      "cell_type": "code",
      "source": [
        "def train_svm(X_train, y_train, X_test, y_test):\n",
        "    \"\"\"\n",
        "    Function to perform grid search for hyperparam tuning for SVM\n",
        "    \"\"\"\n",
        "    gsc = GridSearchCV(\n",
        "        estimator = SGDClassifier(loss='hinge'),\n",
        "        param_grid = {\n",
        "            'alpha': [0.00001, 0.00005, 0.0001, 0.001, 0.01, 0.1, 0.5, 1, 5, 10, 20, 50, 100],\n",
        "            'early_stopping': [True]\n",
        "        }, cv=5, scoring='accuracy', n_jobs=-1)\n",
        "    result = gsc.fit(X_train,y_train)\n",
        "    best_params = result.best_params_\n",
        "    print(f\"The best params obtained are:{best_params}\")\n",
        "    print(f\"Training accuracy: {gsc.score(X_train,y_train)}\")\n",
        "    print(f\"Test accuracy: {gsc.score(X_test,y_test)}\")\n",
        "    best_svm = SGDClassifier(loss='hinge', alpha=best_params['alpha'])\n",
        "    return best_params, best_svm"
      ],
      "metadata": {
        "id": "DdWkox17cKvA"
      },
      "execution_count": null,
      "outputs": []
    },
    {
      "cell_type": "code",
      "source": [
        "# training with bow\n",
        "print(\"Results of SVM:\")\n",
        "print()\n",
        "print(\"Training with Bag-of-Words features:\")\n",
        "params, model = train_svm(X_trainb, y_trainb, X_testb, y_testb)\n",
        "get_roc_curve(X_trainb, y_trainb, X_testb, y_testb, model, \"Bow+SVM\")\n",
        "\n",
        "# training with tfidf\n",
        "print(\"Training with Tfidf features:\")\n",
        "params, model = train_svm(X_traint, y_traint, X_testt, y_testt)\n",
        "get_roc_curve(X_traint, y_traint, X_testt, y_testt, model, \"tfidf+SVM\")\n",
        "\n",
        "# training with Hashing Vectorizer\n",
        "# training with tfidf\n",
        "print(\"Training with HashingVectorizer features:\")\n",
        "params, model = train_svm(X_trainh, y_trainh, X_testh, y_testh)\n",
        "get_roc_curve(X_trainh, y_trainh, X_testh, y_testh, model, \"Hv+SVM\")"
      ],
      "metadata": {
        "id": "YPfrZl1LbbbR"
      },
      "execution_count": null,
      "outputs": []
    },
    {
      "cell_type": "markdown",
      "source": [
        "#### 3. Multinomial Naive Bayes"
      ],
      "metadata": {
        "id": "OBRznE8OcfyM"
      }
    },
    {
      "cell_type": "code",
      "source": [
        "def train_mnb(X_train, y_train, X_test, y_test):\n",
        "    \"\"\"\n",
        "    Function to perform grid search for hyperparam tuning for multinomial naive bayes\n",
        "    \"\"\"\n",
        "    gsc = GridSearchCV(\n",
        "        estimator = MultinomialNB(),\n",
        "        param_grid = {\n",
        "            'alpha': np.logspace(-4, 3, num=25)\n",
        "        }, cv=5, scoring='accuracy', n_jobs=-1)\n",
        "    result = gsc.fit(X_train,y_train)\n",
        "    best_params = result.best_params_\n",
        "    print(f\"The best params obtained are:{best_params}\")\n",
        "    print(f\"Training accuracy: {gsc.score(X_train,y_train)}\")\n",
        "    print(f\"Test accuracy: {gsc.score(X_test,y_test)}\")\n",
        "    best_mnb = MultinomialNB(alpha=best_params['alpha'])\n",
        "    return best_params, best_mnb"
      ],
      "metadata": {
        "id": "hYWdjyeUb-f1"
      },
      "execution_count": null,
      "outputs": []
    },
    {
      "cell_type": "code",
      "source": [
        "# training with bow\n",
        "print(\"Results of MNB:\")\n",
        "print()\n",
        "print(\"Training with Bag-of-Words features:\")\n",
        "params, model = train_mnb(X_trainb, y_trainb, X_testb, y_testb)\n",
        "get_roc_curve(X_trainb, y_trainb, X_testb, y_testb, model, \"Bow+MNB\")\n",
        "\n",
        "# training with tfidf\n",
        "print(\"Training with Tfidf features:\")\n",
        "params, model = train_mnb(X_traint, y_traint, X_testt, y_testt)\n",
        "get_roc_curve(X_traint, y_traint, X_testt, y_testt, model, \"tfidf+MNB\")\n",
        "\n",
        "# training with Hashing Vectorizer\n",
        "print(\"Training with HashingVectorizer features:\")\n",
        "params, model = train_mnb(X_trainh, y_trainh, X_testh, y_testh)\n",
        "get_roc_curve(X_trainh, y_trainh, X_testh, y_testh, model, \"Hv+MNB\")"
      ],
      "metadata": {
        "id": "Y6tWKaKMb-eG"
      },
      "execution_count": null,
      "outputs": []
    },
    {
      "cell_type": "markdown",
      "source": [
        "#### 4. Decision Tree Classifier"
      ],
      "metadata": {
        "id": "dEI9AxB0cnG6"
      }
    },
    {
      "cell_type": "code",
      "source": [
        "def train_dt(X_train, y_train, X_test, y_test):\n",
        "    \"\"\"\n",
        "    Function to perform grid search for hyperparam tuning for Decision Tree Classifier\n",
        "    \"\"\"\n",
        "    gsc = GridSearchCV(\n",
        "        estimator = DecisionTreeClassifier(),\n",
        "        param_grid = {\n",
        "            'criterion': ['gini', 'entropy'],\n",
        "            'max_depth': [2, 4, 10, 20, 35, 50, 75, 100]\n",
        "        }, cv=5, scoring='accuracy', n_jobs=-1)\n",
        "    result = gsc.fit(X_train,y_train)\n",
        "    best_params = result.best_params_\n",
        "    print(f\"The best params obtained are:{best_params}\")\n",
        "    print(f\"Training accuracy: {gsc.score(X_train,y_train)}\")\n",
        "    print(f\"Test accuracy: {gsc.score(X_test,y_test)}\")\n",
        "    best_dt = DecisionTreeClassifier(criterion=best_params['criterion'], max_depth=best_params['max_depth'])\n",
        "    return best_params, best_dt"
      ],
      "metadata": {
        "id": "25laWqYab-b5"
      },
      "execution_count": null,
      "outputs": []
    },
    {
      "cell_type": "code",
      "source": [
        "# training with bow\n",
        "print(\"Results of Decision Tree:\")\n",
        "print()\n",
        "print(\"Training with Bag-of-Words features:\")\n",
        "params, model = train_dt(X_trainb, y_trainb, X_testb, y_testb)\n",
        "get_roc_curve(X_trainb, y_trainb, X_testb, y_testb, model, \"Bow + Decision Tree\")\n",
        "\n",
        "# training with tfidf\n",
        "print(\"Training with Tfidf features:\")\n",
        "params, model = train_dt(X_traint, y_traint, X_testt, y_testt)\n",
        "get_roc_curve(X_traint, y_traint, X_testt, y_testt, model, \"tfidf+ Decision Tree\")\n",
        "\n",
        "# training with Hashing Vectorizer\n",
        "print(\"Training with HashingVectorizer features:\")\n",
        "params, model = train_dt(X_trainh, y_trainh, X_testh, y_testh)\n",
        "get_roc_curve(X_trainh, y_trainh, X_testh, y_testh, model, \"Hv+ Decision Tree\")"
      ],
      "metadata": {
        "id": "xWi3Qwu8b-Zp"
      },
      "execution_count": null,
      "outputs": []
    },
    {
      "cell_type": "markdown",
      "source": [
        "#### 5. Random Forest Classifier"
      ],
      "metadata": {
        "id": "joNOSO1Cctlc"
      }
    },
    {
      "cell_type": "code",
      "source": [
        "def train_rf(X_train, y_train, X_test, y_test):\n",
        "    \"\"\"\n",
        "    Function to perform grid search for hyperparam tuning for Random Forest Classifier\n",
        "    \"\"\"\n",
        "    gsc = GridSearchCV(\n",
        "        estimator = RandomForestClassifier(),\n",
        "        param_grid = {\n",
        "            'max_depth': [4, 10, 20, 75, 100],\n",
        "            'n_estimators': [10, 50, 100, 200, 300]\n",
        "        }, cv=5, scoring='accuracy', n_jobs=-1)\n",
        "    result = gsc.fit(X_train,y_train)\n",
        "    best_params = result.best_params_\n",
        "    print(f\"The best params obtained are:{best_params}\")\n",
        "    print(f\"Training accuracy: {gsc.score(X_train,y_train)}\")\n",
        "    print(f\"Test accuracy: {gsc.score(X_test,y_test)}\")\n",
        "    best_rf = RandomForestClassifier(n_estimators=best_params['n_estimators'], max_depth=best_params['max_depth'])\n",
        "    return best_params, best_rf"
      ],
      "metadata": {
        "id": "8D7e8Ub1b-Wg"
      },
      "execution_count": null,
      "outputs": []
    },
    {
      "cell_type": "code",
      "source": [
        "# training with bow\n",
        "print(\"Results of Random Forest Classifier:\")\n",
        "print()\n",
        "print(\"Training with Bag-of-Words features:\")\n",
        "params, model = train_rf(X_trainb, y_trainb, X_testb, y_testb)\n",
        "get_roc_curve(X_trainb, y_trainb, X_testb, y_testb, model, \"Bow + Random Forest\")\n",
        "\n",
        "# training with tfidf\n",
        "print(\"Training with Tfidf features:\")\n",
        "params, model = train_rf(X_traint, y_traint, X_testt, y_testt)\n",
        "get_roc_curve(X_traint, y_traint, X_testt, y_testt, model, \"tfidf+ Random Forest\")\n",
        "\n",
        "# training with Hashing Vectorizer\n",
        "print(\"Training with HashingVectorizer features:\")\n",
        "params, model = train_rf(X_trainh, y_trainh, X_testh, y_testh)\n",
        "get_roc_curve(X_trainh, y_trainh, X_testh, y_testh, model, \"Hv+ Random Forest\")"
      ],
      "metadata": {
        "id": "RgEfsLHrb-Uo"
      },
      "execution_count": null,
      "outputs": []
    },
    {
      "cell_type": "markdown",
      "source": [
        "#### 7. K-Neighbors Classifier"
      ],
      "metadata": {
        "id": "66WrEvhqc1ob"
      }
    },
    {
      "cell_type": "code",
      "source": [
        "def train_knn(X_train, y_train, X_test, y_test):\n",
        "    \"\"\"\n",
        "    Function to perform grid search for hyperparam tuning for Random Forest Classifier\n",
        "    \"\"\"\n",
        "    gsc = GridSearchCV(\n",
        "        estimator = KNeighborsClassifier(),\n",
        "        param_grid = {\n",
        "            'n_neighbors': [2, 5, 10, 20, 35, 50, 100]\n",
        "        }, cv=5, scoring='accuracy', n_jobs=-1)\n",
        "    result = gsc.fit(X_train,y_train)\n",
        "    best_params = result.best_params_\n",
        "    print(f\"The best params obtained are:{best_params}\")\n",
        "    print(f\"Training accuracy: {gsc.score(X_train,y_train)}\")\n",
        "    print(f\"Test accuracy: {gsc.score(X_test,y_test)}\")\n",
        "    best_knn = KNeighborsClassifier(n_neighbors=best_params['n_neighbors'])\n",
        "    return best_params, best_knn"
      ],
      "metadata": {
        "id": "RPhi5Gl1b-P5"
      },
      "execution_count": null,
      "outputs": []
    },
    {
      "cell_type": "code",
      "source": [
        "# training with bow\n",
        "print(\"Results of K-Nearest Neighbors Classifier:\")\n",
        "print()\n",
        "print(\"Training with Bag-of-Words features:\")\n",
        "params, model = train_knn(X_trainb, y_trainb, X_testb, y_testb)\n",
        "get_roc_curve(X_trainb, y_trainb, X_testb, y_testb, model, \"Bow + KNeighbors\")\n",
        "\n",
        "# training with tfidf\n",
        "print(\"Training with Tfidf features:\")\n",
        "params, model = train_knn(X_traint, y_traint, X_testt, y_testt)\n",
        "get_roc_curve(X_traint, y_traint, X_testt, y_testt, model, \"tfidf+ KNeighbors\")\n",
        "\n",
        "# training with Hashing Vectorizer\n",
        "print(\"Training with HashingVectorizer features:\")\n",
        "params, model = train_knn(X_trainh, y_trainh, X_testh, y_testh)\n",
        "get_roc_curve(X_trainh, y_trainh, X_testh, y_testh, model, \"Hv+ KNeighbors\")"
      ],
      "metadata": {
        "id": "ZLMzshIxb-NZ"
      },
      "execution_count": null,
      "outputs": []
    },
    {
      "cell_type": "code",
      "source": [
        "# making a submission with BOW + LR\n",
        "lr_model = SGDClassifier(loss='log', alpha=0.001)\n",
        "lr_model.fit(bow_X, y)"
      ],
      "metadata": {
        "id": "jWuApRkZb-K4"
      },
      "execution_count": null,
      "outputs": []
    },
    {
      "cell_type": "code",
      "source": [
        "test_df = pd.read_csv('/kaggle/input/nlp-getting-started/test.csv')\n",
        "test_df.head(10)"
      ],
      "metadata": {
        "id": "Qp6pEnrib-Hq"
      },
      "execution_count": null,
      "outputs": []
    },
    {
      "cell_type": "code",
      "source": [
        "# filling the NaN values in location and keyword\n",
        "test_df['location'] = test_df['location'].fillna(\"\")\n",
        "test_df['keyword'] = test_df['keyword'].fillna(\"\")"
      ],
      "metadata": {
        "id": "nNaFj_nzb-Fx"
      },
      "execution_count": null,
      "outputs": []
    },
    {
      "cell_type": "code",
      "source": [
        "test_df['Text'] = test_df['text']+\" \"+test_df['keyword']\n",
        "test_df.head()"
      ],
      "metadata": {
        "id": "ftnfFxGwb-Di"
      },
      "execution_count": null,
      "outputs": []
    },
    {
      "cell_type": "code",
      "source": [
        "test_df.Text = test_df.Text.apply(preprocess)\n",
        "print(test_df.Text.head(10))\n"
      ],
      "metadata": {
        "id": "ZSDriWpfb-Bi"
      },
      "execution_count": null,
      "outputs": []
    },
    {
      "cell_type": "code",
      "source": [
        "test_bow = bow.fit_transform(test_df['Text']).toarray()\n",
        "test_bow.shape"
      ],
      "metadata": {
        "id": "m9-uqfbob9-q"
      },
      "execution_count": null,
      "outputs": []
    },
    {
      "cell_type": "code",
      "source": [
        "test_pred = lr_model.predict(test_bow)"
      ],
      "metadata": {
        "id": "s6MaT53Lb98g"
      },
      "execution_count": null,
      "outputs": []
    },
    {
      "cell_type": "code",
      "source": [
        "sample_sub = pd.read_csv('/kaggle/input/nlp-getting-started/sample_submission.csv')\n",
        "sample_sub.head(10)"
      ],
      "metadata": {
        "id": "n7NxaI3Vb96N"
      },
      "execution_count": null,
      "outputs": []
    },
    {
      "cell_type": "code",
      "source": [
        "len(sample_sub.target)"
      ],
      "metadata": {
        "id": "ewOMOTEib94F"
      },
      "execution_count": null,
      "outputs": []
    },
    {
      "cell_type": "code",
      "source": [
        "sample_sub['target'] = test_pred\n",
        "sample_sub.head()"
      ],
      "metadata": {
        "id": "jdpKf7NtbbZD"
      },
      "execution_count": null,
      "outputs": []
    },
    {
      "cell_type": "code",
      "source": [
        "sample_sub.tail()"
      ],
      "metadata": {
        "id": "ZRn-9mNjdLn3"
      },
      "execution_count": null,
      "outputs": []
    },
    {
      "cell_type": "code",
      "source": [
        "sample_sub[sample_sub['target'] == 1]"
      ],
      "metadata": {
        "id": "Ko-m3ac9dLZG"
      },
      "execution_count": null,
      "outputs": []
    },
    {
      "cell_type": "code",
      "source": [
        "sample_sub.to_csv('submission_lr_bow.csv', index=False)"
      ],
      "metadata": {
        "id": "Wa6R09IVdLVz"
      },
      "execution_count": null,
      "outputs": []
    },
    {
      "cell_type": "code",
      "source": [
        ""
      ],
      "metadata": {
        "id": "otsEKrMidLTk"
      },
      "execution_count": null,
      "outputs": []
    },
    {
      "cell_type": "code",
      "execution_count": null,
      "metadata": {
        "id": "q5uk61FNaFtE"
      },
      "outputs": [],
      "source": [
        ""
      ]
    }
  ]
}