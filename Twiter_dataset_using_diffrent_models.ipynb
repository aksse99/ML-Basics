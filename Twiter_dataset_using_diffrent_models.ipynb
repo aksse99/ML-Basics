{
  "nbformat": 4,
  "nbformat_minor": 0,
  "metadata": {
    "colab": {
      "name": "Twiter_dataset_using_diffrent_models.ipynb",
      "provenance": [],
      "collapsed_sections": []
    },
    "kernelspec": {
      "name": "python3",
      "display_name": "Python 3"
    },
    "language_info": {
      "name": "python"
    }
  },
  "cells": [
    {
      "cell_type": "code",
      "execution_count": 23,
      "metadata": {
        "id": "7zKu7uR93fa0"
      },
      "outputs": [],
      "source": [
        "import numpy as np\n",
        "import pandas as pd \n",
        "from sklearn.model_selection import train_test_split\n",
        "import csv\n",
        "from sklearn.feature_extraction.text import CountVectorizer,  TfidfVectorizer, HashingVectorizer\n",
        "from sklearn.ensemble import RandomForestClassifier \n",
        "from sklearn.linear_model import LogisticRegression\n",
        "\n",
        "from sklearn.linear_model import LogisticRegression\n",
        "from sklearn.linear_model import SGDClassifier\n",
        "from sklearn.naive_bayes import MultinomialNB\n",
        "from sklearn.neighbors import KNeighborsClassifier\n",
        "from sklearn.tree import DecisionTreeClassifier\n",
        "from sklearn.model_selection import GridSearchCV\n",
        "from sklearn.ensemble import RandomForestClassifier\n",
        "from tqdm import tqdm\n",
        "\n",
        "from sklearn import svm\n",
        "import nltk\n",
        "from nltk import bigrams\n",
        "from nltk.tokenize import sent_tokenize, word_tokenize\n",
        "from sklearn.metrics import accuracy_score, confusion_matrix,classification_report\n",
        "import matplotlib.pyplot as plt\n",
        "from wordcloud import WordCloud\n"
      ]
    },
    {
      "cell_type": "code",
      "source": [
        "train_df = pd.read_csv(\"train.csv\")\n",
        "train_df.head()\n"
      ],
      "metadata": {
        "id": "yAye5-DS3xvd"
      },
      "execution_count": null,
      "outputs": []
    },
    {
      "cell_type": "code",
      "source": [
        "test_df = pd.read_csv(\"test.csv\")\n",
        "test_df.head()"
      ],
      "metadata": {
        "id": "5RlbyhRq3xt0"
      },
      "execution_count": null,
      "outputs": []
    },
    {
      "cell_type": "code",
      "source": [
        "train_df.isnull().sum()"
      ],
      "metadata": {
        "id": "SRyhsDcE3xr3"
      },
      "execution_count": null,
      "outputs": []
    },
    {
      "cell_type": "code",
      "source": [
        "X = train_df.drop([\"id\"],axis=1)\n",
        "X.head()\n"
      ],
      "metadata": {
        "id": "mgVV27L93xqS"
      },
      "execution_count": null,
      "outputs": []
    },
    {
      "cell_type": "code",
      "source": [
        "key = X[\"keyword\"].value_counts().index[0]\n",
        "print(key)\n",
        "loc = X[\"location\"].value_counts().index[0]\n",
        "print(loc)\n"
      ],
      "metadata": {
        "id": "j1fp6u5Q3xna"
      },
      "execution_count": null,
      "outputs": []
    },
    {
      "cell_type": "code",
      "source": [
        "train_df['keyword'] = train_df['keyword'].fillna(train_df['keyword'].value_counts().idxmax())\n",
        "train_df['location'] = train_df['location'].fillna(train_df['location'].value_counts().idxmax())\n",
        "train_df.isnull().sum()\n"
      ],
      "metadata": {
        "id": "DckEdULa3xlu"
      },
      "execution_count": null,
      "outputs": []
    },
    {
      "cell_type": "code",
      "source": [
        "X_new = train_df.drop([\"target\"],axis=1)\n",
        "X_new.head()\n"
      ],
      "metadata": {
        "id": "bilkI5Kq3xjD"
      },
      "execution_count": null,
      "outputs": []
    },
    {
      "cell_type": "code",
      "source": [
        "y = train_df[\"target\"]\n",
        "y.shape\n"
      ],
      "metadata": {
        "id": "TfaYtEp83xhZ"
      },
      "execution_count": null,
      "outputs": []
    },
    {
      "cell_type": "code",
      "source": [
        "test_df.isnull().sum()"
      ],
      "metadata": {
        "id": "LjoDdI4K3xee"
      },
      "execution_count": null,
      "outputs": []
    },
    {
      "cell_type": "code",
      "source": [
        "test_df['keyword'] = test_df['keyword'].fillna(test_df['keyword'].value_counts().idxmax())\n",
        "test_df['location'] = test_df['location'].fillna(test_df['location'].value_counts().idxmax())\n",
        "test_df.isnull().sum()"
      ],
      "metadata": {
        "id": "pb70JXjw3xcm"
      },
      "execution_count": null,
      "outputs": []
    },
    {
      "cell_type": "code",
      "source": [
        "X_new = X_new.drop([\"id\"],axis=1)\n",
        "X_new.head()"
      ],
      "metadata": {
        "id": "mfCVEvdL3xZ2"
      },
      "execution_count": null,
      "outputs": []
    },
    {
      "cell_type": "code",
      "source": [
        "X_new.replace(\"[^a-zA-Z]\", \" \",regex = True, inplace = True)\n",
        "X_new.head()\n"
      ],
      "metadata": {
        "id": "d9kdxKOn3xYU"
      },
      "execution_count": null,
      "outputs": []
    },
    {
      "cell_type": "code",
      "source": [
        "for i in X_new.columns:\n",
        "    X_new[i] = X_new[i].str.lower()\n",
        "X_new.head()\n"
      ],
      "metadata": {
        "id": "-kgCDF_s3xVl"
      },
      "execution_count": null,
      "outputs": []
    },
    {
      "cell_type": "code",
      "source": [
        "import nltk\n",
        "nltk.download('stopwords')\n",
        "from nltk.corpus import stopwords\n",
        "stop = stopwords.words('english')\n"
      ],
      "metadata": {
        "id": "o9OajCnz3xUB"
      },
      "execution_count": null,
      "outputs": []
    },
    {
      "cell_type": "code",
      "source": [
        "X_new['keyword'].apply(lambda x: [item for item in x if item not in stop])\n",
        "X_new['location'].apply(lambda x: [item for item in x if item not in stop])\n",
        "X_new['text'].apply(lambda x: [item for item in x if item not in stop])\n",
        "print(X_new.shape)\n"
      ],
      "metadata": {
        "id": "p1OTQxxg3xQ0"
      },
      "execution_count": null,
      "outputs": []
    },
    {
      "cell_type": "code",
      "source": [
        "ori_test = test_df.drop([\"id\"],axis=1)\n",
        "\n",
        "ori_test.replace(\"[^a-zA-Z]\", \" \",regex = True, inplace = True)\n",
        "ori_test.head()\n"
      ],
      "metadata": {
        "id": "t-5CJ55H3xPR"
      },
      "execution_count": null,
      "outputs": []
    },
    {
      "cell_type": "code",
      "source": [
        "for i in ori_test.columns:\n",
        "    ori_test[i] = ori_test[i].str.lower()\n",
        "ori_test.head()"
      ],
      "metadata": {
        "id": "tqUAN-7r3xL-"
      },
      "execution_count": null,
      "outputs": []
    },
    {
      "cell_type": "code",
      "source": [
        "ori_test['keyword'].apply(lambda x: [item for item in x if item not in stop])\n",
        "ori_test['location'].apply(lambda x: [item for item in x if item not in stop])\n",
        "ori_test['text'].apply(lambda x: [item for item in x if item not in stop])\n",
        "print(ori_test.shape)"
      ],
      "metadata": {
        "id": "EUrFMvxn4PE-"
      },
      "execution_count": null,
      "outputs": []
    },
    {
      "cell_type": "code",
      "source": [
        "X_new[\"sentence\"] = X_new['keyword'] + \" \" + X_new['text']\n",
        "train_text = np.array(X_new[\"sentence\"])\n",
        "print(train_text[0])"
      ],
      "metadata": {
        "id": "gdfwvU-R4PDd"
      },
      "execution_count": null,
      "outputs": []
    },
    {
      "cell_type": "code",
      "source": [
        "# test dataset\n",
        "ori_test[\"sentence\"] = ori_test['keyword'] + \" \" + ori_test['text']\n",
        "test_text = np.array(ori_test[\"sentence\"])\n",
        "print(test_text[0])"
      ],
      "metadata": {
        "id": "2SbwAid04O8y"
      },
      "execution_count": null,
      "outputs": []
    },
    {
      "cell_type": "markdown",
      "source": [
        "1. Using Bag-of-Words"
      ],
      "metadata": {
        "id": "LhrXZl2jAMey"
      }
    },
    {
      "cell_type": "code",
      "source": [
        "from sklearn.model_selection import train_test_split\n",
        "x_trainb, x_testb, y_trainb, y_testb = train_test_split(train_text,y,test_size=0.25,random_state=0)\n",
        "print(x_trainb.shape)\n",
        "print(x_testb.shape)\n",
        "print(y_trainb.shape)\n",
        "print(y_testb.shape)"
      ],
      "metadata": {
        "id": "TDpJt5o0_1Xx"
      },
      "execution_count": null,
      "outputs": []
    },
    {
      "cell_type": "code",
      "source": [
        "bow = CountVectorizer(max_features=6000, ngram_range=(1,3))\n",
        "bow_df = bow.fit_transform(x_trainb)\n",
        "bow_df.shape"
      ],
      "metadata": {
        "id": "kVMYLrMW6uON"
      },
      "execution_count": null,
      "outputs": []
    },
    {
      "cell_type": "code",
      "source": [
        "bow_X = bow_df\n",
        "print(bow_X.shape)"
      ],
      "metadata": {
        "id": "kkyzLsIs6uD2"
      },
      "execution_count": null,
      "outputs": []
    },
    {
      "cell_type": "code",
      "source": [
        "keyword = bow.get_feature_names()\n",
        "X_trainb = bow.transform(x_trainb)\n",
        "X_testb = bow.transform(x_testb)\n",
        "X_testb_new = bow.transform(test_text)"
      ],
      "metadata": {
        "id": "vSZnlzgkKHrb"
      },
      "execution_count": null,
      "outputs": []
    },
    {
      "cell_type": "markdown",
      "source": [
        "1.1 Random Forest Classifier"
      ],
      "metadata": {
        "id": "56gqxeDzK4KY"
      }
    },
    {
      "cell_type": "code",
      "source": [
        "rc = RandomForestClassifier(max_depth = 400 ,random_state=0, n_estimators = 300)\n",
        "rc.fit(X_trainb,y_trainb) "
      ],
      "metadata": {
        "id": "UgjFRdGoKHhi"
      },
      "execution_count": null,
      "outputs": []
    },
    {
      "cell_type": "code",
      "source": [
        "predb1 = rc.predict(X_testb)\n",
        "matrix = confusion_matrix(y_testb,predb1)\n",
        "print(matrix)\n",
        "score = accuracy_score(y_testb,predb1)\n",
        "print(score)\n",
        "report = classification_report(y_testb,predb1)\n",
        "print(report)\n",
        "predictionb1 = rc.predict(X_testb_new)\n",
        "predictionb1"
      ],
      "metadata": {
        "colab": {
          "base_uri": "https://localhost:8080/"
        },
        "id": "GhuVsDIyKHYS",
        "outputId": "2098d5cc-7d0c-46a6-cc4a-8c82ece5d76a"
      },
      "execution_count": 46,
      "outputs": [
        {
          "output_type": "stream",
          "name": "stdout",
          "text": [
            "[[1017   90]\n",
            " [ 316  481]]\n",
            "0.7867647058823529\n",
            "              precision    recall  f1-score   support\n",
            "\n",
            "           0       0.76      0.92      0.83      1107\n",
            "           1       0.84      0.60      0.70       797\n",
            "\n",
            "    accuracy                           0.79      1904\n",
            "   macro avg       0.80      0.76      0.77      1904\n",
            "weighted avg       0.80      0.79      0.78      1904\n",
            "\n"
          ]
        },
        {
          "output_type": "execute_result",
          "data": {
            "text/plain": [
              "array([0, 0, 0, ..., 1, 1, 0])"
            ]
          },
          "metadata": {},
          "execution_count": 46
        }
      ]
    },
    {
      "cell_type": "markdown",
      "source": [
        "1.2 Logistic Regression"
      ],
      "metadata": {
        "id": "iz4eRgBbK9B9"
      }
    },
    {
      "cell_type": "code",
      "source": [
        "LR = LogisticRegression().fit(X_trainb,y_trainb)"
      ],
      "metadata": {
        "colab": {
          "base_uri": "https://localhost:8080/"
        },
        "id": "0YwmMonaKHQH",
        "outputId": "95f82229-a238-4449-a89b-719032ba3583"
      },
      "execution_count": 47,
      "outputs": [
        {
          "output_type": "stream",
          "name": "stderr",
          "text": [
            "/usr/local/lib/python3.7/dist-packages/sklearn/linear_model/_logistic.py:818: ConvergenceWarning: lbfgs failed to converge (status=1):\n",
            "STOP: TOTAL NO. of ITERATIONS REACHED LIMIT.\n",
            "\n",
            "Increase the number of iterations (max_iter) or scale the data as shown in:\n",
            "    https://scikit-learn.org/stable/modules/preprocessing.html\n",
            "Please also refer to the documentation for alternative solver options:\n",
            "    https://scikit-learn.org/stable/modules/linear_model.html#logistic-regression\n",
            "  extra_warning_msg=_LOGISTIC_SOLVER_CONVERGENCE_MSG,\n"
          ]
        }
      ]
    },
    {
      "cell_type": "code",
      "source": [
        "predb2 = LR.predict(X_testb)\n",
        "matrix = confusion_matrix(y_testb,predb2)\n",
        "print(matrix)\n",
        "score = accuracy_score(y_testb,predb2)\n",
        "print(score)\n",
        "report = classification_report(y_testb,predb2)\n",
        "print(report)\n",
        "predictionb2 = LR.predict(X_testb_new)\n",
        "predictionb2"
      ],
      "metadata": {
        "colab": {
          "base_uri": "https://localhost:8080/"
        },
        "id": "G7HM55F_KHIU",
        "outputId": "143b44be-f6ad-411e-e813-a11304982386"
      },
      "execution_count": 48,
      "outputs": [
        {
          "output_type": "stream",
          "name": "stdout",
          "text": [
            "[[961 146]\n",
            " [216 581]]\n",
            "0.8098739495798319\n",
            "              precision    recall  f1-score   support\n",
            "\n",
            "           0       0.82      0.87      0.84      1107\n",
            "           1       0.80      0.73      0.76       797\n",
            "\n",
            "    accuracy                           0.81      1904\n",
            "   macro avg       0.81      0.80      0.80      1904\n",
            "weighted avg       0.81      0.81      0.81      1904\n",
            "\n"
          ]
        },
        {
          "output_type": "execute_result",
          "data": {
            "text/plain": [
              "array([1, 0, 1, ..., 1, 1, 1])"
            ]
          },
          "metadata": {},
          "execution_count": 48
        }
      ]
    },
    {
      "cell_type": "markdown",
      "source": [
        "1.3 SVM"
      ],
      "metadata": {
        "id": "6QWoHWsMLZ2U"
      }
    },
    {
      "cell_type": "code",
      "source": [
        "SVM = svm.SVC().fit(X_trainb, y_trainb)"
      ],
      "metadata": {
        "id": "l7UF0Va7LQF4"
      },
      "execution_count": 49,
      "outputs": []
    },
    {
      "cell_type": "code",
      "source": [
        "predb3 = SVM.predict(X_testb)\n",
        "matrix = confusion_matrix(y_testb,predb3)\n",
        "print(matrix)\n",
        "score = accuracy_score(y_testb,predb3)\n",
        "print(score)\n",
        "report = classification_report(y_testb,predb3)\n",
        "print(report)\n",
        "predictionb3 = SVM.predict(X_testb_new)\n",
        "predictionb3"
      ],
      "metadata": {
        "colab": {
          "base_uri": "https://localhost:8080/"
        },
        "id": "rvcGVQyuLQAN",
        "outputId": "ef229635-28b9-470a-f380-c1cab37bf3f9"
      },
      "execution_count": 50,
      "outputs": [
        {
          "output_type": "stream",
          "name": "stdout",
          "text": [
            "[[1018   89]\n",
            " [ 277  520]]\n",
            "0.8077731092436975\n",
            "              precision    recall  f1-score   support\n",
            "\n",
            "           0       0.79      0.92      0.85      1107\n",
            "           1       0.85      0.65      0.74       797\n",
            "\n",
            "    accuracy                           0.81      1904\n",
            "   macro avg       0.82      0.79      0.79      1904\n",
            "weighted avg       0.81      0.81      0.80      1904\n",
            "\n"
          ]
        },
        {
          "output_type": "execute_result",
          "data": {
            "text/plain": [
              "array([0, 0, 1, ..., 1, 1, 0])"
            ]
          },
          "metadata": {},
          "execution_count": 50
        }
      ]
    },
    {
      "cell_type": "markdown",
      "source": [
        "2. Using Tf-Idf Vectorizer"
      ],
      "metadata": {
        "id": "EBNupxPnAXZt"
      }
    },
    {
      "cell_type": "code",
      "source": [
        "from sklearn.model_selection import train_test_split\n",
        "x_traint, x_testt, y_traint, y_testt = train_test_split(train_text,y,test_size=0.25,random_state=0)\n",
        "print(x_traint.shape)\n",
        "print(x_testt.shape)\n",
        "print(y_traint.shape)\n",
        "print(y_testt.shape)"
      ],
      "metadata": {
        "id": "Q9iFWNP9A1jU"
      },
      "execution_count": null,
      "outputs": []
    },
    {
      "cell_type": "code",
      "source": [
        "tfidf = TfidfVectorizer(max_features=6000, ngram_range=(1,3))\n",
        "tfidf_X = tfidf.fit_transform(x_traint)\n",
        "tfidf_X.shape"
      ],
      "metadata": {
        "id": "d4YrY_4n6tu2"
      },
      "execution_count": null,
      "outputs": []
    },
    {
      "cell_type": "code",
      "source": [
        "keyword = tfidf.get_feature_names()\n",
        "X_traint = tfidf.transform(x_traint)\n",
        "X_testt = tfidf.transform(x_testt)\n",
        "X_testt_new = tfidf.transform(test_text)"
      ],
      "metadata": {
        "id": "tKIFLtPJLqBz"
      },
      "execution_count": null,
      "outputs": []
    },
    {
      "cell_type": "markdown",
      "source": [
        "2.1 Random Forest Classifier"
      ],
      "metadata": {
        "id": "BrpiSr2xMcGU"
      }
    },
    {
      "cell_type": "code",
      "source": [
        "rc = RandomForestClassifier(max_depth = 400 ,random_state=0, n_estimators = 300)\n",
        "rc.fit(X_traint,y_traint) "
      ],
      "metadata": {
        "colab": {
          "base_uri": "https://localhost:8080/"
        },
        "id": "Q5uyZYSbLqAA",
        "outputId": "0ecb927a-b39d-4914-cb00-b2a0b334b4e6"
      },
      "execution_count": 54,
      "outputs": [
        {
          "output_type": "execute_result",
          "data": {
            "text/plain": [
              "RandomForestClassifier(max_depth=400, n_estimators=300, random_state=0)"
            ]
          },
          "metadata": {},
          "execution_count": 54
        }
      ]
    },
    {
      "cell_type": "code",
      "source": [
        "predt1 = rc.predict(X_testt)\n",
        "matrix = confusion_matrix(y_testt,predt1)\n",
        "print(matrix)\n",
        "score = accuracy_score(y_testt,predt1)\n",
        "print(score)\n",
        "report = classification_report(y_testt,predt1)\n",
        "print(report)\n",
        "predictiont1 = rc.predict(X_testt_new)\n",
        "predictiont1"
      ],
      "metadata": {
        "colab": {
          "base_uri": "https://localhost:8080/"
        },
        "id": "Sx2RAtCwLpwu",
        "outputId": "439d7e00-545d-447e-b16a-89240d2ce29e"
      },
      "execution_count": 55,
      "outputs": [
        {
          "output_type": "stream",
          "name": "stdout",
          "text": [
            "[[1020   87]\n",
            " [ 318  479]]\n",
            "0.7872899159663865\n",
            "              precision    recall  f1-score   support\n",
            "\n",
            "           0       0.76      0.92      0.83      1107\n",
            "           1       0.85      0.60      0.70       797\n",
            "\n",
            "    accuracy                           0.79      1904\n",
            "   macro avg       0.80      0.76      0.77      1904\n",
            "weighted avg       0.80      0.79      0.78      1904\n",
            "\n"
          ]
        },
        {
          "output_type": "execute_result",
          "data": {
            "text/plain": [
              "array([0, 0, 1, ..., 1, 1, 0])"
            ]
          },
          "metadata": {},
          "execution_count": 55
        }
      ]
    },
    {
      "cell_type": "markdown",
      "source": [
        "2.2 Logistic Regression"
      ],
      "metadata": {
        "id": "MHhsO2joM1aQ"
      }
    },
    {
      "cell_type": "code",
      "source": [
        "LR = LogisticRegression().fit(X_traint,y_traint)"
      ],
      "metadata": {
        "id": "62Fvw5NfLptd"
      },
      "execution_count": 56,
      "outputs": []
    },
    {
      "cell_type": "code",
      "source": [
        "predt2 = LR.predict(X_testt)\n",
        "matrix = confusion_matrix(y_testt,predt2)\n",
        "print(matrix)\n",
        "score = accuracy_score(y_testt,predt2)\n",
        "print(score)\n",
        "report = classification_report(y_testt,predt2)\n",
        "print(report)\n",
        "predictiont2 = LR.predict(X_testt_new)\n",
        "predictiont2"
      ],
      "metadata": {
        "colab": {
          "base_uri": "https://localhost:8080/"
        },
        "id": "hrPB_9cMLprc",
        "outputId": "338dc828-2db1-40cf-c8e5-7c7182ebaee3"
      },
      "execution_count": 57,
      "outputs": [
        {
          "output_type": "stream",
          "name": "stdout",
          "text": [
            "[[980 127]\n",
            " [237 560]]\n",
            "0.8088235294117647\n",
            "              precision    recall  f1-score   support\n",
            "\n",
            "           0       0.81      0.89      0.84      1107\n",
            "           1       0.82      0.70      0.75       797\n",
            "\n",
            "    accuracy                           0.81      1904\n",
            "   macro avg       0.81      0.79      0.80      1904\n",
            "weighted avg       0.81      0.81      0.81      1904\n",
            "\n"
          ]
        },
        {
          "output_type": "execute_result",
          "data": {
            "text/plain": [
              "array([1, 0, 1, ..., 1, 1, 1])"
            ]
          },
          "metadata": {},
          "execution_count": 57
        }
      ]
    },
    {
      "cell_type": "markdown",
      "source": [
        "2.3 SVM"
      ],
      "metadata": {
        "id": "Eo82Kt81NAZw"
      }
    },
    {
      "cell_type": "code",
      "source": [
        "SVM = svm.SVC().fit(X_traint, y_traint)"
      ],
      "metadata": {
        "id": "NLmamTMYLpoi"
      },
      "execution_count": 58,
      "outputs": []
    },
    {
      "cell_type": "code",
      "source": [
        "predt3 = SVM.predict(X_testt)\n",
        "matrix = confusion_matrix(y_testt,predt3)\n",
        "print(matrix)\n",
        "score = accuracy_score(y_testt,predt3)\n",
        "print(score)\n",
        "report = classification_report(y_testt,predt3)\n",
        "print(report)\n",
        "predictiont3 = SVM.predict(X_testt_new)\n",
        "predictiont3"
      ],
      "metadata": {
        "colab": {
          "base_uri": "https://localhost:8080/"
        },
        "id": "iREHyL44Lpmp",
        "outputId": "cfdeec6d-4d71-4048-bbde-a8339b1f9891"
      },
      "execution_count": 59,
      "outputs": [
        {
          "output_type": "stream",
          "name": "stdout",
          "text": [
            "[[1002  105]\n",
            " [ 262  535]]\n",
            "0.8072478991596639\n",
            "              precision    recall  f1-score   support\n",
            "\n",
            "           0       0.79      0.91      0.85      1107\n",
            "           1       0.84      0.67      0.74       797\n",
            "\n",
            "    accuracy                           0.81      1904\n",
            "   macro avg       0.81      0.79      0.79      1904\n",
            "weighted avg       0.81      0.81      0.80      1904\n",
            "\n"
          ]
        },
        {
          "output_type": "execute_result",
          "data": {
            "text/plain": [
              "array([1, 0, 1, ..., 1, 1, 1])"
            ]
          },
          "metadata": {},
          "execution_count": 59
        }
      ]
    },
    {
      "cell_type": "markdown",
      "source": [
        "3. Using Hashing Vectorizer"
      ],
      "metadata": {
        "id": "_IcjaCHmAiax"
      }
    },
    {
      "cell_type": "code",
      "source": [
        "from sklearn.model_selection import train_test_split\n",
        "x_trainh, x_testh, y_trainh, y_testh = train_test_split(train_text,y,test_size=0.25,random_state=0)\n",
        "print(x_trainh.shape)\n",
        "print(x_testh.shape)\n",
        "print(y_trainh.shape)\n",
        "print(y_testh.shape)"
      ],
      "metadata": {
        "colab": {
          "base_uri": "https://localhost:8080/"
        },
        "id": "jnznIQZ9A5os",
        "outputId": "3aa04caf-93e1-4063-9770-fd71c71b4237"
      },
      "execution_count": 60,
      "outputs": [
        {
          "output_type": "stream",
          "name": "stdout",
          "text": [
            "(5709,)\n",
            "(1904,)\n",
            "(5709,)\n",
            "(1904,)\n"
          ]
        }
      ]
    },
    {
      "cell_type": "code",
      "source": [
        "hv = HashingVectorizer(alternate_sign=False,n_features=6000, ngram_range=(1,3))\n",
        "hv_X = hv.fit_transform(x_trainh)\n",
        "hv_X.shape"
      ],
      "metadata": {
        "colab": {
          "base_uri": "https://localhost:8080/"
        },
        "id": "ozTVgLw-6tie",
        "outputId": "f5f945df-a222-4565-ee72-20c78d71bdb4"
      },
      "execution_count": 61,
      "outputs": [
        {
          "output_type": "execute_result",
          "data": {
            "text/plain": [
              "(5709, 6000)"
            ]
          },
          "metadata": {},
          "execution_count": 61
        }
      ]
    },
    {
      "cell_type": "code",
      "source": [
        "keyword = hv.get_params()\n",
        "X_trainh = hv.transform(x_trainh)\n",
        "X_testh = hv.transform(x_testh)\n",
        "X_testh_new = hv.transform(test_text)"
      ],
      "metadata": {
        "id": "nbIIRoAPCC5K"
      },
      "execution_count": 63,
      "outputs": []
    },
    {
      "cell_type": "markdown",
      "source": [
        "3.1 Random Forest Classifier"
      ],
      "metadata": {
        "id": "dul4-sHANk_l"
      }
    },
    {
      "cell_type": "code",
      "source": [
        "rc = RandomForestClassifier(max_depth = 400 ,random_state=0, n_estimators = 300)\n",
        "rc.fit(X_trainh,y_trainh) "
      ],
      "metadata": {
        "colab": {
          "base_uri": "https://localhost:8080/"
        },
        "id": "tr_86mctNfvF",
        "outputId": "fafb7cda-bc35-49c2-ec39-55b61ecd6683"
      },
      "execution_count": 64,
      "outputs": [
        {
          "output_type": "execute_result",
          "data": {
            "text/plain": [
              "RandomForestClassifier(max_depth=400, n_estimators=300, random_state=0)"
            ]
          },
          "metadata": {},
          "execution_count": 64
        }
      ]
    },
    {
      "cell_type": "code",
      "source": [
        "predh1 = rc.predict(X_testh)\n",
        "matrix = confusion_matrix(y_testh,predh1)\n",
        "print(matrix)\n",
        "score = accuracy_score(y_testh,predh1)\n",
        "print(score)\n",
        "report = classification_report(y_testh,predh1)\n",
        "print(report)\n",
        "predictionh1 = rc.predict(X_testh_new)\n",
        "predictionh1"
      ],
      "metadata": {
        "colab": {
          "base_uri": "https://localhost:8080/"
        },
        "id": "GgVDlBTtNe1y",
        "outputId": "2b031204-b841-4d0d-ccf8-bdc4e986982b"
      },
      "execution_count": 65,
      "outputs": [
        {
          "output_type": "stream",
          "name": "stdout",
          "text": [
            "[[976 131]\n",
            " [311 486]]\n",
            "0.7678571428571429\n",
            "              precision    recall  f1-score   support\n",
            "\n",
            "           0       0.76      0.88      0.82      1107\n",
            "           1       0.79      0.61      0.69       797\n",
            "\n",
            "    accuracy                           0.77      1904\n",
            "   macro avg       0.77      0.75      0.75      1904\n",
            "weighted avg       0.77      0.77      0.76      1904\n",
            "\n"
          ]
        },
        {
          "output_type": "execute_result",
          "data": {
            "text/plain": [
              "array([0, 0, 0, ..., 1, 1, 0])"
            ]
          },
          "metadata": {},
          "execution_count": 65
        }
      ]
    },
    {
      "cell_type": "markdown",
      "source": [
        "3.2 Logistic Regression"
      ],
      "metadata": {
        "id": "JfcBCf0NV6tv"
      }
    },
    {
      "cell_type": "code",
      "source": [
        "LR = LogisticRegression().fit(X_trainh,y_trainh)"
      ],
      "metadata": {
        "id": "TCTKGLD9NeuT"
      },
      "execution_count": 66,
      "outputs": []
    },
    {
      "cell_type": "code",
      "source": [
        "predh2 = LR.predict(X_testh)\n",
        "matrix = confusion_matrix(y_testh,predh2)\n",
        "print(matrix)\n",
        "score = accuracy_score(y_testh,predh2)\n",
        "print(score)\n",
        "report = classification_report(y_testh,predh2)\n",
        "print(report)\n",
        "predictionh2 = LR.predict(X_testh_new)\n",
        "predictionh2"
      ],
      "metadata": {
        "colab": {
          "base_uri": "https://localhost:8080/"
        },
        "id": "tXT_7wIpNesc",
        "outputId": "10907307-01fe-4ca0-8a47-1ea6c7533dcf"
      },
      "execution_count": 67,
      "outputs": [
        {
          "output_type": "stream",
          "name": "stdout",
          "text": [
            "[[974 133]\n",
            " [304 493]]\n",
            "0.770483193277311\n",
            "              precision    recall  f1-score   support\n",
            "\n",
            "           0       0.76      0.88      0.82      1107\n",
            "           1       0.79      0.62      0.69       797\n",
            "\n",
            "    accuracy                           0.77      1904\n",
            "   macro avg       0.77      0.75      0.75      1904\n",
            "weighted avg       0.77      0.77      0.76      1904\n",
            "\n"
          ]
        },
        {
          "output_type": "execute_result",
          "data": {
            "text/plain": [
              "array([0, 0, 0, ..., 1, 1, 0])"
            ]
          },
          "metadata": {},
          "execution_count": 67
        }
      ]
    },
    {
      "cell_type": "markdown",
      "source": [
        "3.3 SVM"
      ],
      "metadata": {
        "id": "-7TTff2-WO72"
      }
    },
    {
      "cell_type": "code",
      "source": [
        "SVM = svm.SVC().fit(X_trainh, y_trainh)"
      ],
      "metadata": {
        "id": "4eg98WCgNeqQ"
      },
      "execution_count": 68,
      "outputs": []
    },
    {
      "cell_type": "code",
      "source": [
        "predh3 = SVM.predict(X_testh)\n",
        "matrix = confusion_matrix(y_testh,predh3)\n",
        "print(matrix)\n",
        "score = accuracy_score(y_testh,predh3)\n",
        "print(score)\n",
        "report = classification_report(y_testh,predh3)\n",
        "print(report)\n",
        "predictionh3 = SVM.predict(X_testh_new)\n",
        "predictionh3"
      ],
      "metadata": {
        "colab": {
          "base_uri": "https://localhost:8080/"
        },
        "id": "JyJGBLG_NeoZ",
        "outputId": "83da59d0-0563-4ebd-88b3-9dd88c4b1341"
      },
      "execution_count": 69,
      "outputs": [
        {
          "output_type": "stream",
          "name": "stdout",
          "text": [
            "[[1007  100]\n",
            " [ 319  478]]\n",
            "0.779936974789916\n",
            "              precision    recall  f1-score   support\n",
            "\n",
            "           0       0.76      0.91      0.83      1107\n",
            "           1       0.83      0.60      0.70       797\n",
            "\n",
            "    accuracy                           0.78      1904\n",
            "   macro avg       0.79      0.75      0.76      1904\n",
            "weighted avg       0.79      0.78      0.77      1904\n",
            "\n"
          ]
        },
        {
          "output_type": "execute_result",
          "data": {
            "text/plain": [
              "array([0, 0, 0, ..., 1, 1, 0])"
            ]
          },
          "metadata": {},
          "execution_count": 69
        }
      ]
    },
    {
      "cell_type": "code",
      "source": [
        "data = {'id':test_df[\"id\"],'target':predictionb3}\n",
        "output = pd.DataFrame(data, columns = ['id','target'])\n",
        "output.index = test_df.index"
      ],
      "metadata": {
        "id": "4Wiaeyww4oK_"
      },
      "execution_count": 70,
      "outputs": []
    },
    {
      "cell_type": "code",
      "source": [
        "output.to_csv(\"submission.csv\", index = False)    \n"
      ],
      "metadata": {
        "id": "OW7NVrKS4oHT"
      },
      "execution_count": 71,
      "outputs": []
    },
    {
      "cell_type": "code",
      "source": [
        "a = pd.read_csv(\"submission.csv\")\n",
        "a"
      ],
      "metadata": {
        "colab": {
          "base_uri": "https://localhost:8080/",
          "height": 424
        },
        "id": "j_sFX2a24oF9",
        "outputId": "1f1ad0fb-0f5a-4ff9-db85-9bf3300cf712"
      },
      "execution_count": 72,
      "outputs": [
        {
          "output_type": "execute_result",
          "data": {
            "text/html": [
              "\n",
              "  <div id=\"df-19d1f4a9-905e-416e-b7d8-cb5268c5913b\">\n",
              "    <div class=\"colab-df-container\">\n",
              "      <div>\n",
              "<style scoped>\n",
              "    .dataframe tbody tr th:only-of-type {\n",
              "        vertical-align: middle;\n",
              "    }\n",
              "\n",
              "    .dataframe tbody tr th {\n",
              "        vertical-align: top;\n",
              "    }\n",
              "\n",
              "    .dataframe thead th {\n",
              "        text-align: right;\n",
              "    }\n",
              "</style>\n",
              "<table border=\"1\" class=\"dataframe\">\n",
              "  <thead>\n",
              "    <tr style=\"text-align: right;\">\n",
              "      <th></th>\n",
              "      <th>id</th>\n",
              "      <th>target</th>\n",
              "    </tr>\n",
              "  </thead>\n",
              "  <tbody>\n",
              "    <tr>\n",
              "      <th>0</th>\n",
              "      <td>0</td>\n",
              "      <td>0</td>\n",
              "    </tr>\n",
              "    <tr>\n",
              "      <th>1</th>\n",
              "      <td>2</td>\n",
              "      <td>0</td>\n",
              "    </tr>\n",
              "    <tr>\n",
              "      <th>2</th>\n",
              "      <td>3</td>\n",
              "      <td>1</td>\n",
              "    </tr>\n",
              "    <tr>\n",
              "      <th>3</th>\n",
              "      <td>9</td>\n",
              "      <td>0</td>\n",
              "    </tr>\n",
              "    <tr>\n",
              "      <th>4</th>\n",
              "      <td>11</td>\n",
              "      <td>1</td>\n",
              "    </tr>\n",
              "    <tr>\n",
              "      <th>...</th>\n",
              "      <td>...</td>\n",
              "      <td>...</td>\n",
              "    </tr>\n",
              "    <tr>\n",
              "      <th>3258</th>\n",
              "      <td>10861</td>\n",
              "      <td>0</td>\n",
              "    </tr>\n",
              "    <tr>\n",
              "      <th>3259</th>\n",
              "      <td>10865</td>\n",
              "      <td>1</td>\n",
              "    </tr>\n",
              "    <tr>\n",
              "      <th>3260</th>\n",
              "      <td>10868</td>\n",
              "      <td>1</td>\n",
              "    </tr>\n",
              "    <tr>\n",
              "      <th>3261</th>\n",
              "      <td>10874</td>\n",
              "      <td>1</td>\n",
              "    </tr>\n",
              "    <tr>\n",
              "      <th>3262</th>\n",
              "      <td>10875</td>\n",
              "      <td>0</td>\n",
              "    </tr>\n",
              "  </tbody>\n",
              "</table>\n",
              "<p>3263 rows × 2 columns</p>\n",
              "</div>\n",
              "      <button class=\"colab-df-convert\" onclick=\"convertToInteractive('df-19d1f4a9-905e-416e-b7d8-cb5268c5913b')\"\n",
              "              title=\"Convert this dataframe to an interactive table.\"\n",
              "              style=\"display:none;\">\n",
              "        \n",
              "  <svg xmlns=\"http://www.w3.org/2000/svg\" height=\"24px\"viewBox=\"0 0 24 24\"\n",
              "       width=\"24px\">\n",
              "    <path d=\"M0 0h24v24H0V0z\" fill=\"none\"/>\n",
              "    <path d=\"M18.56 5.44l.94 2.06.94-2.06 2.06-.94-2.06-.94-.94-2.06-.94 2.06-2.06.94zm-11 1L8.5 8.5l.94-2.06 2.06-.94-2.06-.94L8.5 2.5l-.94 2.06-2.06.94zm10 10l.94 2.06.94-2.06 2.06-.94-2.06-.94-.94-2.06-.94 2.06-2.06.94z\"/><path d=\"M17.41 7.96l-1.37-1.37c-.4-.4-.92-.59-1.43-.59-.52 0-1.04.2-1.43.59L10.3 9.45l-7.72 7.72c-.78.78-.78 2.05 0 2.83L4 21.41c.39.39.9.59 1.41.59.51 0 1.02-.2 1.41-.59l7.78-7.78 2.81-2.81c.8-.78.8-2.07 0-2.86zM5.41 20L4 18.59l7.72-7.72 1.47 1.35L5.41 20z\"/>\n",
              "  </svg>\n",
              "      </button>\n",
              "      \n",
              "  <style>\n",
              "    .colab-df-container {\n",
              "      display:flex;\n",
              "      flex-wrap:wrap;\n",
              "      gap: 12px;\n",
              "    }\n",
              "\n",
              "    .colab-df-convert {\n",
              "      background-color: #E8F0FE;\n",
              "      border: none;\n",
              "      border-radius: 50%;\n",
              "      cursor: pointer;\n",
              "      display: none;\n",
              "      fill: #1967D2;\n",
              "      height: 32px;\n",
              "      padding: 0 0 0 0;\n",
              "      width: 32px;\n",
              "    }\n",
              "\n",
              "    .colab-df-convert:hover {\n",
              "      background-color: #E2EBFA;\n",
              "      box-shadow: 0px 1px 2px rgba(60, 64, 67, 0.3), 0px 1px 3px 1px rgba(60, 64, 67, 0.15);\n",
              "      fill: #174EA6;\n",
              "    }\n",
              "\n",
              "    [theme=dark] .colab-df-convert {\n",
              "      background-color: #3B4455;\n",
              "      fill: #D2E3FC;\n",
              "    }\n",
              "\n",
              "    [theme=dark] .colab-df-convert:hover {\n",
              "      background-color: #434B5C;\n",
              "      box-shadow: 0px 1px 3px 1px rgba(0, 0, 0, 0.15);\n",
              "      filter: drop-shadow(0px 1px 2px rgba(0, 0, 0, 0.3));\n",
              "      fill: #FFFFFF;\n",
              "    }\n",
              "  </style>\n",
              "\n",
              "      <script>\n",
              "        const buttonEl =\n",
              "          document.querySelector('#df-19d1f4a9-905e-416e-b7d8-cb5268c5913b button.colab-df-convert');\n",
              "        buttonEl.style.display =\n",
              "          google.colab.kernel.accessAllowed ? 'block' : 'none';\n",
              "\n",
              "        async function convertToInteractive(key) {\n",
              "          const element = document.querySelector('#df-19d1f4a9-905e-416e-b7d8-cb5268c5913b');\n",
              "          const dataTable =\n",
              "            await google.colab.kernel.invokeFunction('convertToInteractive',\n",
              "                                                     [key], {});\n",
              "          if (!dataTable) return;\n",
              "\n",
              "          const docLinkHtml = 'Like what you see? Visit the ' +\n",
              "            '<a target=\"_blank\" href=https://colab.research.google.com/notebooks/data_table.ipynb>data table notebook</a>'\n",
              "            + ' to learn more about interactive tables.';\n",
              "          element.innerHTML = '';\n",
              "          dataTable['output_type'] = 'display_data';\n",
              "          await google.colab.output.renderOutput(dataTable, element);\n",
              "          const docLink = document.createElement('div');\n",
              "          docLink.innerHTML = docLinkHtml;\n",
              "          element.appendChild(docLink);\n",
              "        }\n",
              "      </script>\n",
              "    </div>\n",
              "  </div>\n",
              "  "
            ],
            "text/plain": [
              "         id  target\n",
              "0         0       0\n",
              "1         2       0\n",
              "2         3       1\n",
              "3         9       0\n",
              "4        11       1\n",
              "...     ...     ...\n",
              "3258  10861       0\n",
              "3259  10865       1\n",
              "3260  10868       1\n",
              "3261  10874       1\n",
              "3262  10875       0\n",
              "\n",
              "[3263 rows x 2 columns]"
            ]
          },
          "metadata": {},
          "execution_count": 72
        }
      ]
    },
    {
      "cell_type": "code",
      "source": [
        ""
      ],
      "metadata": {
        "id": "1zBBAuOU4oC1"
      },
      "execution_count": null,
      "outputs": []
    },
    {
      "cell_type": "code",
      "source": [
        ""
      ],
      "metadata": {
        "id": "HZyCGEDE4oBI"
      },
      "execution_count": null,
      "outputs": []
    },
    {
      "cell_type": "code",
      "source": [
        ""
      ],
      "metadata": {
        "id": "s1KDmCNd4n-V"
      },
      "execution_count": null,
      "outputs": []
    },
    {
      "cell_type": "code",
      "source": [
        ""
      ],
      "metadata": {
        "id": "xVxCULx14n81"
      },
      "execution_count": null,
      "outputs": []
    },
    {
      "cell_type": "code",
      "source": [
        ""
      ],
      "metadata": {
        "id": "TEeMbmF-4n5J"
      },
      "execution_count": null,
      "outputs": []
    },
    {
      "cell_type": "code",
      "source": [
        ""
      ],
      "metadata": {
        "id": "hKq5b7nG4n3l"
      },
      "execution_count": null,
      "outputs": []
    },
    {
      "cell_type": "code",
      "source": [
        ""
      ],
      "metadata": {
        "id": "JEgd-nMT4n0t"
      },
      "execution_count": null,
      "outputs": []
    },
    {
      "cell_type": "code",
      "source": [
        ""
      ],
      "metadata": {
        "id": "6sjjP7tI4nzF"
      },
      "execution_count": null,
      "outputs": []
    },
    {
      "cell_type": "code",
      "source": [
        ""
      ],
      "metadata": {
        "id": "ke2347dd4nvq"
      },
      "execution_count": null,
      "outputs": []
    },
    {
      "cell_type": "code",
      "source": [
        ""
      ],
      "metadata": {
        "id": "pGcjCCMv4nuD"
      },
      "execution_count": null,
      "outputs": []
    },
    {
      "cell_type": "code",
      "source": [
        ""
      ],
      "metadata": {
        "id": "60rr_M2S4nrf"
      },
      "execution_count": null,
      "outputs": []
    },
    {
      "cell_type": "code",
      "source": [
        ""
      ],
      "metadata": {
        "id": "ODuoQksN4np5"
      },
      "execution_count": null,
      "outputs": []
    },
    {
      "cell_type": "code",
      "source": [
        ""
      ],
      "metadata": {
        "id": "ZWwuLzT23uQH"
      },
      "execution_count": null,
      "outputs": []
    }
  ]
}